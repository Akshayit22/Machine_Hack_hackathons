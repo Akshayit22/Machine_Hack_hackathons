{
 "cells": [
  {
   "cell_type": "code",
   "execution_count": 1,
   "id": "1e139d8e",
   "metadata": {},
   "outputs": [],
   "source": [
    "import pandas as pd\n",
    "import numpy as np\n",
    "import seaborn as sns\n",
    "\n",
    "import matplotlib.pyplot as plt\n",
    "%matplotlib inline\n",
    "\n",
    "from sklearn import svm\n",
    "from sklearn.model_selection import train_test_split,cross_val_score,KFold\n",
    "from sklearn.linear_model import Lasso,LinearRegression,LogisticRegression,ElasticNet\n",
    "from sklearn.naive_bayes import MultinomialNB,GaussianNB\n",
    "from sklearn.tree import DecisionTreeClassifier,BaseDecisionTree,ExtraTreeClassifier\n",
    "from sklearn.ensemble import BaggingClassifier,StackingClassifier,RandomForestClassifier,VotingClassifier\n",
    "from sklearn.neighbors import KNeighborsClassifier\n",
    "\n",
    "from sklearn.preprocessing import LabelEncoder,StandardScaler,OneHotEncoder\n",
    "\n",
    "import warnings\n",
    "warnings.filterwarnings(\"ignore\")\n",
    "\n",
    "le = LabelEncoder()\n",
    "ohe = OneHotEncoder()\n",
    "sc = StandardScaler()\n",
    "\n",
    "rfc =  RandomForestClassifier(n_estimators=100)\n",
    "gnb = GaussianNB()\n",
    "mnb = MultinomialNB(alpha=0.2)\n",
    "dtc = DecisionTreeClassifier()\n",
    "extratree = ExtraTreeClassifier()\n",
    "knnc = KNeighborsClassifier()\n",
    "svrc = svm.SVR()\n",
    "lasso = Lasso()"
   ]
  },
  {
   "cell_type": "code",
   "execution_count": 2,
   "id": "0c07c861",
   "metadata": {},
   "outputs": [
    {
     "data": {
      "text/html": [
       "<div>\n",
       "<style scoped>\n",
       "    .dataframe tbody tr th:only-of-type {\n",
       "        vertical-align: middle;\n",
       "    }\n",
       "\n",
       "    .dataframe tbody tr th {\n",
       "        vertical-align: top;\n",
       "    }\n",
       "\n",
       "    .dataframe thead th {\n",
       "        text-align: right;\n",
       "    }\n",
       "</style>\n",
       "<table border=\"1\" class=\"dataframe\">\n",
       "  <thead>\n",
       "    <tr style=\"text-align: right;\">\n",
       "      <th></th>\n",
       "      <th>STORY</th>\n",
       "      <th>SECTION</th>\n",
       "    </tr>\n",
       "  </thead>\n",
       "  <tbody>\n",
       "    <tr>\n",
       "      <th>0</th>\n",
       "      <td>But the most painful was the huge reversal in ...</td>\n",
       "      <td>3</td>\n",
       "    </tr>\n",
       "    <tr>\n",
       "      <th>1</th>\n",
       "      <td>How formidable is the opposition alliance amon...</td>\n",
       "      <td>0</td>\n",
       "    </tr>\n",
       "    <tr>\n",
       "      <th>2</th>\n",
       "      <td>Most Asian currencies were trading lower today...</td>\n",
       "      <td>3</td>\n",
       "    </tr>\n",
       "    <tr>\n",
       "      <th>3</th>\n",
       "      <td>If you want to answer any question, click on ‘...</td>\n",
       "      <td>1</td>\n",
       "    </tr>\n",
       "    <tr>\n",
       "      <th>4</th>\n",
       "      <td>In global markets, gold prices edged up today ...</td>\n",
       "      <td>3</td>\n",
       "    </tr>\n",
       "    <tr>\n",
       "      <th>...</th>\n",
       "      <td>...</td>\n",
       "      <td>...</td>\n",
       "    </tr>\n",
       "    <tr>\n",
       "      <th>7623</th>\n",
       "      <td>Karnataka has been a Congress bastion, but it ...</td>\n",
       "      <td>0</td>\n",
       "    </tr>\n",
       "    <tr>\n",
       "      <th>7624</th>\n",
       "      <td>The film, which also features Janhvi Kapoor, w...</td>\n",
       "      <td>2</td>\n",
       "    </tr>\n",
       "    <tr>\n",
       "      <th>7625</th>\n",
       "      <td>The database has been created after bringing t...</td>\n",
       "      <td>1</td>\n",
       "    </tr>\n",
       "    <tr>\n",
       "      <th>7626</th>\n",
       "      <td>The state, which has had an uneasy relationshi...</td>\n",
       "      <td>0</td>\n",
       "    </tr>\n",
       "    <tr>\n",
       "      <th>7627</th>\n",
       "      <td>Virus stars Kunchacko Boban, Tovino Thomas, In...</td>\n",
       "      <td>2</td>\n",
       "    </tr>\n",
       "  </tbody>\n",
       "</table>\n",
       "<p>7628 rows × 2 columns</p>\n",
       "</div>"
      ],
      "text/plain": [
       "                                                  STORY  SECTION\n",
       "0     But the most painful was the huge reversal in ...        3\n",
       "1     How formidable is the opposition alliance amon...        0\n",
       "2     Most Asian currencies were trading lower today...        3\n",
       "3     If you want to answer any question, click on ‘...        1\n",
       "4     In global markets, gold prices edged up today ...        3\n",
       "...                                                 ...      ...\n",
       "7623  Karnataka has been a Congress bastion, but it ...        0\n",
       "7624  The film, which also features Janhvi Kapoor, w...        2\n",
       "7625  The database has been created after bringing t...        1\n",
       "7626  The state, which has had an uneasy relationshi...        0\n",
       "7627  Virus stars Kunchacko Boban, Tovino Thomas, In...        2\n",
       "\n",
       "[7628 rows x 2 columns]"
      ]
     },
     "execution_count": 2,
     "metadata": {},
     "output_type": "execute_result"
    }
   ],
   "source": [
    "df = pd.read_excel('Data_Train.xlsx')\n",
    "dft = pd.read_excel('Data_Test.xlsx')\n",
    "df"
   ]
  },
  {
   "cell_type": "code",
   "execution_count": 3,
   "id": "23cf47ff",
   "metadata": {},
   "outputs": [
    {
     "data": {
      "text/html": [
       "<div>\n",
       "<style scoped>\n",
       "    .dataframe tbody tr th:only-of-type {\n",
       "        vertical-align: middle;\n",
       "    }\n",
       "\n",
       "    .dataframe tbody tr th {\n",
       "        vertical-align: top;\n",
       "    }\n",
       "\n",
       "    .dataframe thead th {\n",
       "        text-align: right;\n",
       "    }\n",
       "</style>\n",
       "<table border=\"1\" class=\"dataframe\">\n",
       "  <thead>\n",
       "    <tr style=\"text-align: right;\">\n",
       "      <th></th>\n",
       "      <th>STORY</th>\n",
       "    </tr>\n",
       "  </thead>\n",
       "  <tbody>\n",
       "    <tr>\n",
       "      <th>0</th>\n",
       "      <td>2019 will see gadgets like gaming smartphones ...</td>\n",
       "    </tr>\n",
       "    <tr>\n",
       "      <th>1</th>\n",
       "      <td>It has also unleashed a wave of changes in the...</td>\n",
       "    </tr>\n",
       "    <tr>\n",
       "      <th>2</th>\n",
       "      <td>It can be confusing to pick the right smartpho...</td>\n",
       "    </tr>\n",
       "    <tr>\n",
       "      <th>3</th>\n",
       "      <td>The mobile application is integrated with a da...</td>\n",
       "    </tr>\n",
       "    <tr>\n",
       "      <th>4</th>\n",
       "      <td>We have rounded up some of the gadgets that sh...</td>\n",
       "    </tr>\n",
       "    <tr>\n",
       "      <th>...</th>\n",
       "      <td>...</td>\n",
       "    </tr>\n",
       "    <tr>\n",
       "      <th>2743</th>\n",
       "      <td>According to researchers, fraud in the mobile ...</td>\n",
       "    </tr>\n",
       "    <tr>\n",
       "      <th>2744</th>\n",
       "      <td>The iPhone XS and XS Max share the Apple A12 c...</td>\n",
       "    </tr>\n",
       "    <tr>\n",
       "      <th>2745</th>\n",
       "      <td>On the photography front, the Note 5 Pro featu...</td>\n",
       "    </tr>\n",
       "    <tr>\n",
       "      <th>2746</th>\n",
       "      <td>UDAY mandated that discoms bring the gap betwe...</td>\n",
       "    </tr>\n",
       "    <tr>\n",
       "      <th>2747</th>\n",
       "      <td>Ripple also helps bank customers send money to...</td>\n",
       "    </tr>\n",
       "  </tbody>\n",
       "</table>\n",
       "<p>2748 rows × 1 columns</p>\n",
       "</div>"
      ],
      "text/plain": [
       "                                                  STORY\n",
       "0     2019 will see gadgets like gaming smartphones ...\n",
       "1     It has also unleashed a wave of changes in the...\n",
       "2     It can be confusing to pick the right smartpho...\n",
       "3     The mobile application is integrated with a da...\n",
       "4     We have rounded up some of the gadgets that sh...\n",
       "...                                                 ...\n",
       "2743  According to researchers, fraud in the mobile ...\n",
       "2744  The iPhone XS and XS Max share the Apple A12 c...\n",
       "2745  On the photography front, the Note 5 Pro featu...\n",
       "2746  UDAY mandated that discoms bring the gap betwe...\n",
       "2747  Ripple also helps bank customers send money to...\n",
       "\n",
       "[2748 rows x 1 columns]"
      ]
     },
     "execution_count": 3,
     "metadata": {},
     "output_type": "execute_result"
    }
   ],
   "source": [
    "dft"
   ]
  },
  {
   "cell_type": "code",
   "execution_count": 4,
   "id": "ad3c2b7a",
   "metadata": {},
   "outputs": [
    {
     "data": {
      "text/plain": [
       "STORY      0\n",
       "SECTION    0\n",
       "dtype: int64"
      ]
     },
     "execution_count": 4,
     "metadata": {},
     "output_type": "execute_result"
    }
   ],
   "source": [
    "df.isna().sum()"
   ]
  },
  {
   "cell_type": "code",
   "execution_count": 5,
   "id": "7434af75",
   "metadata": {},
   "outputs": [
    {
     "name": "stdout",
     "output_type": "stream",
     "text": [
      "<class 'pandas.core.frame.DataFrame'>\n",
      "RangeIndex: 2748 entries, 0 to 2747\n",
      "Data columns (total 1 columns):\n",
      " #   Column  Non-Null Count  Dtype \n",
      "---  ------  --------------  ----- \n",
      " 0   STORY   2748 non-null   object\n",
      "dtypes: object(1)\n",
      "memory usage: 21.6+ KB\n"
     ]
    }
   ],
   "source": [
    "dft.info()"
   ]
  },
  {
   "cell_type": "code",
   "execution_count": 6,
   "id": "816638d7",
   "metadata": {},
   "outputs": [
    {
     "data": {
      "text/plain": [
       "STORY      7548\n",
       "SECTION       4\n",
       "dtype: int64"
      ]
     },
     "execution_count": 6,
     "metadata": {},
     "output_type": "execute_result"
    }
   ],
   "source": [
    "df.nunique()"
   ]
  },
  {
   "cell_type": "code",
   "execution_count": 7,
   "id": "5e24dff4",
   "metadata": {},
   "outputs": [],
   "source": [
    "df.drop_duplicates(inplace=True)\n",
    "#df_train.drop_duplicates(inplace=True)"
   ]
  },
  {
   "cell_type": "code",
   "execution_count": 8,
   "id": "16a6e5cf",
   "metadata": {},
   "outputs": [
    {
     "data": {
      "text/html": [
       "<div>\n",
       "<style scoped>\n",
       "    .dataframe tbody tr th:only-of-type {\n",
       "        vertical-align: middle;\n",
       "    }\n",
       "\n",
       "    .dataframe tbody tr th {\n",
       "        vertical-align: top;\n",
       "    }\n",
       "\n",
       "    .dataframe thead th {\n",
       "        text-align: right;\n",
       "    }\n",
       "</style>\n",
       "<table border=\"1\" class=\"dataframe\">\n",
       "  <thead>\n",
       "    <tr style=\"text-align: right;\">\n",
       "      <th></th>\n",
       "      <th>STORY</th>\n",
       "      <th>SECTION</th>\n",
       "    </tr>\n",
       "  </thead>\n",
       "  <tbody>\n",
       "    <tr>\n",
       "      <th>0</th>\n",
       "      <td>But the most painful was the huge reversal in ...</td>\n",
       "      <td>3</td>\n",
       "    </tr>\n",
       "    <tr>\n",
       "      <th>1</th>\n",
       "      <td>How formidable is the opposition alliance amon...</td>\n",
       "      <td>0</td>\n",
       "    </tr>\n",
       "    <tr>\n",
       "      <th>2</th>\n",
       "      <td>Most Asian currencies were trading lower today...</td>\n",
       "      <td>3</td>\n",
       "    </tr>\n",
       "    <tr>\n",
       "      <th>3</th>\n",
       "      <td>If you want to answer any question, click on ‘...</td>\n",
       "      <td>1</td>\n",
       "    </tr>\n",
       "    <tr>\n",
       "      <th>4</th>\n",
       "      <td>In global markets, gold prices edged up today ...</td>\n",
       "      <td>3</td>\n",
       "    </tr>\n",
       "    <tr>\n",
       "      <th>...</th>\n",
       "      <td>...</td>\n",
       "      <td>...</td>\n",
       "    </tr>\n",
       "    <tr>\n",
       "      <th>7623</th>\n",
       "      <td>Karnataka has been a Congress bastion, but it ...</td>\n",
       "      <td>0</td>\n",
       "    </tr>\n",
       "    <tr>\n",
       "      <th>7624</th>\n",
       "      <td>The film, which also features Janhvi Kapoor, w...</td>\n",
       "      <td>2</td>\n",
       "    </tr>\n",
       "    <tr>\n",
       "      <th>7625</th>\n",
       "      <td>The database has been created after bringing t...</td>\n",
       "      <td>1</td>\n",
       "    </tr>\n",
       "    <tr>\n",
       "      <th>7626</th>\n",
       "      <td>The state, which has had an uneasy relationshi...</td>\n",
       "      <td>0</td>\n",
       "    </tr>\n",
       "    <tr>\n",
       "      <th>7627</th>\n",
       "      <td>Virus stars Kunchacko Boban, Tovino Thomas, In...</td>\n",
       "      <td>2</td>\n",
       "    </tr>\n",
       "  </tbody>\n",
       "</table>\n",
       "<p>7551 rows × 2 columns</p>\n",
       "</div>"
      ],
      "text/plain": [
       "                                                  STORY  SECTION\n",
       "0     But the most painful was the huge reversal in ...        3\n",
       "1     How formidable is the opposition alliance amon...        0\n",
       "2     Most Asian currencies were trading lower today...        3\n",
       "3     If you want to answer any question, click on ‘...        1\n",
       "4     In global markets, gold prices edged up today ...        3\n",
       "...                                                 ...      ...\n",
       "7623  Karnataka has been a Congress bastion, but it ...        0\n",
       "7624  The film, which also features Janhvi Kapoor, w...        2\n",
       "7625  The database has been created after bringing t...        1\n",
       "7626  The state, which has had an uneasy relationshi...        0\n",
       "7627  Virus stars Kunchacko Boban, Tovino Thomas, In...        2\n",
       "\n",
       "[7551 rows x 2 columns]"
      ]
     },
     "execution_count": 8,
     "metadata": {},
     "output_type": "execute_result"
    }
   ],
   "source": [
    "df"
   ]
  },
  {
   "cell_type": "code",
   "execution_count": 9,
   "id": "da0e673e",
   "metadata": {},
   "outputs": [
    {
     "data": {
      "image/png": "[encoded data removed]",
      "text/plain": [
       "<Figure size 640x480 with 1 Axes>"
      ]
     },
     "metadata": {},
     "output_type": "display_data"
    }
   ],
   "source": [
    "sns.countplot('SECTION', data=df)"
   ]
  },
  {
   "cell_type": "markdown",
   "id": "b2790aa2",
   "metadata": {},
   "source": [
    "## 0: Politics  1 :Technology  2 : Entertainment  3: Business"
   ]
  },
  {
   "cell_type": "raw",
   "id": "08537697",
   "metadata": {},
   "source": [
    "dupl = {'bool':df.STORY.duplicated()}\n",
    "dp = pd.DataFrame(dupl)\n",
    "data = pd.concat([df,dp],axis=1)\n",
    "data[data['bool']==True].to_csv('duplicates.csv',index=False)\n",
    "data.info()"
   ]
  },
  {
   "cell_type": "code",
   "execution_count": 10,
   "id": "6d4c3949",
   "metadata": {},
   "outputs": [],
   "source": [
    "y = df['SECTION']\n",
    "x = df['STORY']"
   ]
  },
  {
   "cell_type": "code",
   "execution_count": 11,
   "id": "e6d692d2",
   "metadata": {},
   "outputs": [
    {
     "data": {
      "text/plain": [
       "0       But the most painful was the huge reversal in ...\n",
       "1       How formidable is the opposition alliance amon...\n",
       "2       Most Asian currencies were trading lower today...\n",
       "3       If you want to answer any question, click on ‘...\n",
       "4       In global markets, gold prices edged up today ...\n",
       "                              ...                        \n",
       "7623    Karnataka has been a Congress bastion, but it ...\n",
       "7624    The film, which also features Janhvi Kapoor, w...\n",
       "7625    The database has been created after bringing t...\n",
       "7626    The state, which has had an uneasy relationshi...\n",
       "7627    Virus stars Kunchacko Boban, Tovino Thomas, In...\n",
       "Name: STORY, Length: 7551, dtype: object"
      ]
     },
     "execution_count": 11,
     "metadata": {},
     "output_type": "execute_result"
    }
   ],
   "source": [
    "x"
   ]
  },
  {
   "cell_type": "code",
   "execution_count": 12,
   "id": "8d3e2f20",
   "metadata": {},
   "outputs": [],
   "source": [
    "from sklearn.feature_extraction.text import CountVectorizer\n",
    "cv = CountVectorizer(max_features=20000)\n",
    "xx = cv.fit_transform(x)"
   ]
  },
  {
   "cell_type": "code",
   "execution_count": 13,
   "id": "0cea31b9",
   "metadata": {},
   "outputs": [],
   "source": [
    "yy = cv.fit_transform(dft['STORY'])"
   ]
  },
  {
   "cell_type": "code",
   "execution_count": 14,
   "id": "43487ccf",
   "metadata": {},
   "outputs": [
    {
     "name": "stdout",
     "output_type": "stream",
     "text": [
      "(7551, 20000)\n",
      "(2748, 20000)\n"
     ]
    }
   ],
   "source": [
    "print(xx.shape)\n",
    "print(yy.shape)"
   ]
  },
  {
   "cell_type": "code",
   "execution_count": 15,
   "id": "5fe12d12",
   "metadata": {},
   "outputs": [
    {
     "data": {
      "text/plain": [
       "(6040, 20000)"
      ]
     },
     "execution_count": 15,
     "metadata": {},
     "output_type": "execute_result"
    }
   ],
   "source": [
    "x_train, x_test, y_train, y_test = train_test_split(xx, y, test_size=0.2)\n",
    "x_train.shape"
   ]
  },
  {
   "cell_type": "code",
   "execution_count": 16,
   "id": "75fe5144",
   "metadata": {},
   "outputs": [
    {
     "data": {
      "text/plain": [
       "4183    0\n",
       "6475    1\n",
       "1848    3\n",
       "5818    0\n",
       "323     3\n",
       "7141    3\n",
       "4485    2\n",
       "2235    1\n",
       "6610    1\n",
       "6021    1\n",
       "Name: SECTION, dtype: int64"
      ]
     },
     "execution_count": 16,
     "metadata": {},
     "output_type": "execute_result"
    }
   ],
   "source": [
    "y_test[:10]"
   ]
  },
  {
   "cell_type": "markdown",
   "id": "84a596b7",
   "metadata": {},
   "source": [
    "### MultinomialNB(alpha=0.1)"
   ]
  },
  {
   "cell_type": "code",
   "execution_count": 17,
   "id": "dd5a4f30",
   "metadata": {},
   "outputs": [
    {
     "name": "stdout",
     "output_type": "stream",
     "text": [
      "0.9761747187293184\n"
     ]
    },
    {
     "data": {
      "text/plain": [
       "array([0, 1, 3, 0, 3, 3, 2, 3, 1, 1], dtype=int64)"
      ]
     },
     "execution_count": 17,
     "metadata": {},
     "output_type": "execute_result"
    }
   ],
   "source": [
    "algo = MultinomialNB(alpha=0.1)\n",
    "algo.fit(x_train,y_train)\n",
    "print(algo.score(x_test,y_test))\n",
    "algo.predict(x_test[:10])"
   ]
  },
  {
   "cell_type": "code",
   "execution_count": 18,
   "id": "449635eb",
   "metadata": {},
   "outputs": [
    {
     "name": "stdout",
     "output_type": "stream",
     "text": [
      "0.986763732627399\n"
     ]
    },
    {
     "data": {
      "text/plain": [
       "array([0, 1, 3, 0, 3, 3, 2, 1, 1, 1], dtype=int64)"
      ]
     },
     "execution_count": 18,
     "metadata": {},
     "output_type": "execute_result"
    }
   ],
   "source": [
    "algo.fit(xx,y)\n",
    "print(algo.score(x_test,y_test))\n",
    "algo.predict(x_test[:10])"
   ]
  },
  {
   "cell_type": "code",
   "execution_count": 34,
   "id": "da8381fe",
   "metadata": {},
   "outputs": [],
   "source": [
    "pre = {'SECTION': algo.predict(test)}\n",
    "tst = pd.DataFrame(pre)\n",
    "# tst.to_csv('submmision_multinb.csv',index=False)"
   ]
  },
  {
   "cell_type": "code",
   "execution_count": 19,
   "id": "ecddc610",
   "metadata": {},
   "outputs": [
    {
     "name": "stdout",
     "output_type": "stream",
     "text": [
      "0.9344804765056254\n"
     ]
    },
    {
     "data": {
      "text/plain": [
       "array([0, 1, 3, 0, 3, 3, 2, 1, 1, 1], dtype=int64)"
      ]
     },
     "execution_count": 19,
     "metadata": {},
     "output_type": "execute_result"
    }
   ],
   "source": [
    "algo = rfc\n",
    "algo.fit(x_train,y_train)\n",
    "print(algo.score(x_test,y_test))\n",
    "algo.predict(x_test[:10])"
   ]
  },
  {
   "cell_type": "code",
   "execution_count": 20,
   "id": "02ef3925",
   "metadata": {},
   "outputs": [
    {
     "name": "stdout",
     "output_type": "stream",
     "text": [
      "0.9430840502978161\n"
     ]
    },
    {
     "data": {
      "text/plain": [
       "array([0, 1, 3, 0, 3, 1, 2, 1, 1, 1], dtype=int64)"
      ]
     },
     "execution_count": 20,
     "metadata": {},
     "output_type": "execute_result"
    }
   ],
   "source": [
    "algo = gnb\n",
    "algo.fit(x_train.toarray(),y_train)\n",
    "temp = x_test.toarray()\n",
    "print(algo.score(temp,y_test))\n",
    "algo.predict(temp[:10])"
   ]
  },
  {
   "cell_type": "raw",
   "id": "a6de94d5",
   "metadata": {},
   "source": [
    "algo = dtc\n",
    "algo.fit(x_train,y_train)\n",
    "print(algo.score(x_test,y_test))\n",
    "algo.predict(x_test[:10])\n",
    "\n",
    "0.8492791612057667\n",
    "array([1, 1, 2, 0, 1, 0, 2, 3, 1, 2], dtype=int64)"
   ]
  },
  {
   "cell_type": "raw",
   "id": "932c5d83",
   "metadata": {},
   "source": [
    "algo = extratree\n",
    "algo.fit(x_train,y_train)\n",
    "print(algo.score(x_test,y_test))\n",
    "algo.predict(x_test[:10])\n",
    "\n",
    "0.6775884665792923\n",
    "array([1, 1, 2, 0, 1, 3, 2, 3, 1, 2], dtype=int64)"
   ]
  },
  {
   "cell_type": "code",
   "execution_count": 21,
   "id": "0701f2a8",
   "metadata": {},
   "outputs": [],
   "source": [
    "from sklearn.linear_model import SGDClassifier,RidgeClassifier"
   ]
  },
  {
   "cell_type": "code",
   "execution_count": 22,
   "id": "59a54b37",
   "metadata": {},
   "outputs": [
    {
     "name": "stdout",
     "output_type": "stream",
     "text": [
      "0.8755790866975512\n"
     ]
    },
    {
     "data": {
      "text/plain": [
       "array([0, 2, 3, 0, 3, 3, 1, 3, 2, 1], dtype=int64)"
      ]
     },
     "execution_count": 22,
     "metadata": {},
     "output_type": "execute_result"
    }
   ],
   "source": [
    "algo = RidgeClassifier()\n",
    "algo.fit(x_train,y_train)\n",
    "print(algo.score(x_test,y_test))\n",
    "algo.predict(x_test[:10])"
   ]
  },
  {
   "cell_type": "code",
   "execution_count": 23,
   "id": "58bdd7cf",
   "metadata": {},
   "outputs": [
    {
     "name": "stdout",
     "output_type": "stream",
     "text": [
      "0.99867637326274\n"
     ]
    },
    {
     "data": {
      "text/plain": [
       "array([0, 1, 3, 0, 3, 3, 2, 1, 1, 1], dtype=int64)"
      ]
     },
     "execution_count": 23,
     "metadata": {},
     "output_type": "execute_result"
    }
   ],
   "source": [
    "algo = SGDClassifier()\n",
    "algo.fit(xx,y)\n",
    "print(algo.score(x_test,y_test))\n",
    "algo.predict(x_test[:10])\n",
    "\n"
   ]
  },
  {
   "cell_type": "code",
   "execution_count": 24,
   "id": "771b16a5",
   "metadata": {},
   "outputs": [
    {
     "name": "stdout",
     "output_type": "stream",
     "text": [
      "1.0\n"
     ]
    },
    {
     "data": {
      "text/plain": [
       "array([0, 1, 3, 0, 3, 3, 2, 1, 1, 1], dtype=int64)"
      ]
     },
     "execution_count": 24,
     "metadata": {},
     "output_type": "execute_result"
    }
   ],
   "source": [
    "algo = LogisticRegression()\n",
    "algo.fit(xx,y)\n",
    "print(algo.score(x_test,y_test))\n",
    "algo.predict(x_test[:10])\n",
    "\n"
   ]
  },
  {
   "cell_type": "code",
   "execution_count": 25,
   "id": "45acee39",
   "metadata": {},
   "outputs": [
    {
     "name": "stdout",
     "output_type": "stream",
     "text": [
      "1.0\n"
     ]
    },
    {
     "data": {
      "text/plain": [
       "array([0, 1, 3, 0, 3, 3, 2, 1, 1, 1], dtype=int64)"
      ]
     },
     "execution_count": 25,
     "metadata": {},
     "output_type": "execute_result"
    }
   ],
   "source": [
    "# BaggingClassifier,StackingClassifier,RandomForestClassifier,VotingClassifier\n",
    "\n",
    "clf1 = MultinomialNB(alpha=0.1)\n",
    "clf2 = RandomForestClassifier(n_estimators=100)\n",
    "clf3 = SGDClassifier()\n",
    "clf4 = LogisticRegression()\n",
    "\n",
    "vote = VotingClassifier(estimators=[('mnb', clf1), ('rfc', clf2), ('sgdc', clf3), ('log', clf4)], voting='hard')\n",
    "\n",
    "vote.fit(xx,y)\n",
    "print(vote.score(x_test,y_test))\n",
    "vote.predict(x_test[:10])\n",
    "\n",
    "# voting='hard'\n",
    "# with logisticReg\n",
    "# 0.9609530112508272\n",
    "# array([1, 2, 0, 1, 1, 2, 0, 1, 1, 3], dtype=int64)\n",
    "\n",
    "# current: \n",
    "# 0.9669093315684977\n",
    "# array([1, 2, 0, 1, 1, 2, 0, 1, 1, 3], dtype=int64)"
   ]
  },
  {
   "cell_type": "code",
   "execution_count": 26,
   "id": "bc7f7256",
   "metadata": {},
   "outputs": [
    {
     "name": "stdout",
     "output_type": "stream",
     "text": [
      "(2748, 20000)\n"
     ]
    }
   ],
   "source": [
    "cv = CountVectorizer(max_features=20000)\n",
    "test = cv.fit_transform(dft['STORY'])\n",
    "print(test.shape)"
   ]
  },
  {
   "cell_type": "code",
   "execution_count": 32,
   "id": "2419a0fd",
   "metadata": {},
   "outputs": [],
   "source": [
    "pre_vote = {'SECTION': vote.predict(test)}\n",
    "tst = pd.DataFrame(pre_vote)\n",
    "# tst.to_csv('submmision_vote.csv',index=False)"
   ]
  },
  {
   "cell_type": "code",
   "execution_count": 27,
   "id": "7147de48",
   "metadata": {},
   "outputs": [
    {
     "name": "stdout",
     "output_type": "stream",
     "text": [
      "0.9966909331568498\n"
     ]
    },
    {
     "data": {
      "text/plain": [
       "array([0, 1, 3, 0, 3, 3, 2, 1, 1, 1], dtype=int64)"
      ]
     },
     "execution_count": 27,
     "metadata": {},
     "output_type": "execute_result"
    }
   ],
   "source": [
    "\n",
    "estimators = [('mnb',MultinomialNB(alpha=0.1)),('rfc',RandomForestClassifier(n_estimators=100)),\n",
    "              ('sgdc',SGDClassifier()),('logir',LogisticRegression()) ]\n",
    "\n",
    "stack = StackingClassifier(estimators=estimators, final_estimator=SGDClassifier())\n",
    "\n",
    "stack.fit(xx, y)\n",
    "print(stack.score(x_test,y_test))\n",
    "stack.predict(x_test[:10])\n",
    "\n",
    "# 0.9682329583057577\n",
    "# array([1, 2, 1, 2, 2, 2, 1, 2, 1, 2], dtype=int64)\n",
    "\n",
    "# 0.9768365320979484\n",
    "# array([3, 1, 2, 2, 1, 3, 3, 2, 1, 1], dtype=int64)"
   ]
  },
  {
   "cell_type": "code",
   "execution_count": 30,
   "id": "22568d7b",
   "metadata": {},
   "outputs": [],
   "source": [
    "pre = {'SECTION': stack.predict(test)}\n",
    "tst = pd.DataFrame(pre)\n",
    "#tst.to_csv('submmision_vote.csv',index=False)"
   ]
  }
 ],
 "metadata": {
  "kernelspec": {
   "display_name": "Python 3 (ipykernel)",
   "language": "python",
   "name": "python3"
  },
  "language_info": {
   "codemirror_mode": {
    "name": "ipython",
    "version": 3
   },
   "file_extension": ".py",
   "mimetype": "text/x-python",
   "name": "python",
   "nbconvert_exporter": "python",
   "pygments_lexer": "ipython3",
   "version": "3.9.13"
  }
 },
 "nbformat": 4,
 "nbformat_minor": 5
}
