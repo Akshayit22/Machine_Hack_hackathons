{
 "cells": [
  {
   "cell_type": "code",
   "execution_count": 1,
   "id": "f8b8c5c7",
   "metadata": {},
   "outputs": [],
   "source": [
    "import pandas as pd\n",
    "from sklearn.pipeline import Pipeline\n",
    "from sklearn.impute import SimpleImputer\n",
    "from sklearn.preprocessing import StandardScaler\n",
    "from sklearn.model_selection import train_test_split\n",
    "from sklearn.decomposition import PCA\n",
    "from sklearn.tree import DecisionTreeRegressor"
   ]
  },
  {
   "cell_type": "code",
   "execution_count": 20,
   "id": "b4a83267",
   "metadata": {},
   "outputs": [],
   "source": [
    "train=pd.read_csv('D:\\\\documents\\\\Participants_Dataset (1)\\\\train.csv')"
   ]
  },
  {
   "cell_type": "code",
   "execution_count": 21,
   "id": "3b23bbd7",
   "metadata": {},
   "outputs": [],
   "source": [
    "test=pd.read_csv('D:\\\\documents\\\\Participants_Dataset (1)\\\\test.csv')"
   ]
  },
  {
   "cell_type": "code",
   "execution_count": 22,
   "id": "a932ee6e",
   "metadata": {},
   "outputs": [
    {
     "name": "stdout",
     "output_type": "stream",
     "text": [
      "<class 'pandas.core.frame.DataFrame'>\n",
      "RangeIndex: 35000 entries, 0 to 34999\n",
      "Data columns (total 20 columns):\n",
      " #   Column                   Non-Null Count  Dtype  \n",
      "---  ------                   --------------  -----  \n",
      " 0   trip_distance            35000 non-null  float64\n",
      " 1   rate_code                35000 non-null  int64  \n",
      " 2   store_and_fwd_flag       35000 non-null  object \n",
      " 3   payment_type             35000 non-null  int64  \n",
      " 4   fare_amount              35000 non-null  float64\n",
      " 5   extra                    35000 non-null  float64\n",
      " 6   mta_tax                  35000 non-null  float64\n",
      " 7   tip_amount               35000 non-null  float64\n",
      " 8   tolls_amount             35000 non-null  float64\n",
      " 9   imp_surcharge            35000 non-null  float64\n",
      " 10  total_amount             35000 non-null  float64\n",
      " 11  pickup_location_id       35000 non-null  int64  \n",
      " 12  dropoff_location_id      35000 non-null  int64  \n",
      " 13  year                     35000 non-null  int64  \n",
      " 14  month                    35000 non-null  int64  \n",
      " 15  day                      35000 non-null  int64  \n",
      " 16  day_of_week              35000 non-null  int64  \n",
      " 17  hour_of_day              35000 non-null  int64  \n",
      " 18  trip_duration            35000 non-null  float64\n",
      " 19  calculated_total_amount  35000 non-null  float64\n",
      "dtypes: float64(10), int64(9), object(1)\n",
      "memory usage: 5.3+ MB\n"
     ]
    }
   ],
   "source": [
    "train.info()"
   ]
  },
  {
   "cell_type": "code",
   "execution_count": 23,
   "id": "63991f35",
   "metadata": {},
   "outputs": [
    {
     "name": "stdout",
     "output_type": "stream",
     "text": [
      "<class 'pandas.core.frame.DataFrame'>\n",
      "RangeIndex: 15000 entries, 0 to 14999\n",
      "Data columns (total 19 columns):\n",
      " #   Column               Non-Null Count  Dtype  \n",
      "---  ------               --------------  -----  \n",
      " 0   trip_distance        15000 non-null  float64\n",
      " 1   rate_code            15000 non-null  int64  \n",
      " 2   store_and_fwd_flag   15000 non-null  object \n",
      " 3   payment_type         15000 non-null  int64  \n",
      " 4   fare_amount          15000 non-null  float64\n",
      " 5   extra                15000 non-null  float64\n",
      " 6   mta_tax              15000 non-null  float64\n",
      " 7   tip_amount           15000 non-null  float64\n",
      " 8   tolls_amount         15000 non-null  float64\n",
      " 9   imp_surcharge        15000 non-null  float64\n",
      " 10  total_amount         15000 non-null  float64\n",
      " 11  pickup_location_id   15000 non-null  int64  \n",
      " 12  dropoff_location_id  15000 non-null  int64  \n",
      " 13  year                 15000 non-null  int64  \n",
      " 14  month                15000 non-null  int64  \n",
      " 15  day                  15000 non-null  int64  \n",
      " 16  day_of_week          15000 non-null  int64  \n",
      " 17  hour_of_day          15000 non-null  int64  \n",
      " 18  trip_duration        15000 non-null  float64\n",
      "dtypes: float64(9), int64(9), object(1)\n",
      "memory usage: 2.2+ MB\n"
     ]
    }
   ],
   "source": [
    "test.info()"
   ]
  },
  {
   "cell_type": "code",
   "execution_count": 24,
   "id": "0b8034a4",
   "metadata": {},
   "outputs": [
    {
     "data": {
      "text/plain": [
       "trip_distance          0\n",
       "rate_code              0\n",
       "store_and_fwd_flag     0\n",
       "payment_type           0\n",
       "fare_amount            0\n",
       "extra                  0\n",
       "mta_tax                0\n",
       "tip_amount             0\n",
       "tolls_amount           0\n",
       "imp_surcharge          0\n",
       "total_amount           0\n",
       "pickup_location_id     0\n",
       "dropoff_location_id    0\n",
       "year                   0\n",
       "month                  0\n",
       "day                    0\n",
       "day_of_week            0\n",
       "hour_of_day            0\n",
       "trip_duration          0\n",
       "dtype: int64"
      ]
     },
     "execution_count": 24,
     "metadata": {},
     "output_type": "execute_result"
    }
   ],
   "source": [
    "test.isnull().sum()"
   ]
  },
  {
   "cell_type": "code",
   "execution_count": 25,
   "id": "ea532733",
   "metadata": {},
   "outputs": [
    {
     "data": {
      "text/plain": [
       "N    34823\n",
       "Y      177\n",
       "Name: store_and_fwd_flag, dtype: int64"
      ]
     },
     "execution_count": 25,
     "metadata": {},
     "output_type": "execute_result"
    }
   ],
   "source": [
    "train['store_and_fwd_flag'].value_counts()"
   ]
  },
  {
   "cell_type": "code",
   "execution_count": 26,
   "id": "66fa3866",
   "metadata": {},
   "outputs": [
    {
     "data": {
      "text/plain": [
       "N    14916\n",
       "Y       84\n",
       "Name: store_and_fwd_flag, dtype: int64"
      ]
     },
     "execution_count": 26,
     "metadata": {},
     "output_type": "execute_result"
    }
   ],
   "source": [
    "test['store_and_fwd_flag'].value_counts()"
   ]
  },
  {
   "cell_type": "code",
   "execution_count": 27,
   "id": "c457c75f",
   "metadata": {},
   "outputs": [],
   "source": [
    "final_df=pd.concat([train,test],axis=0)"
   ]
  },
  {
   "cell_type": "code",
   "execution_count": 28,
   "id": "c69ddee6",
   "metadata": {},
   "outputs": [
    {
     "name": "stdout",
     "output_type": "stream",
     "text": [
      "<class 'pandas.core.frame.DataFrame'>\n",
      "Int64Index: 50000 entries, 0 to 14999\n",
      "Data columns (total 20 columns):\n",
      " #   Column                   Non-Null Count  Dtype  \n",
      "---  ------                   --------------  -----  \n",
      " 0   trip_distance            50000 non-null  float64\n",
      " 1   rate_code                50000 non-null  int64  \n",
      " 2   store_and_fwd_flag       50000 non-null  object \n",
      " 3   payment_type             50000 non-null  int64  \n",
      " 4   fare_amount              50000 non-null  float64\n",
      " 5   extra                    50000 non-null  float64\n",
      " 6   mta_tax                  50000 non-null  float64\n",
      " 7   tip_amount               50000 non-null  float64\n",
      " 8   tolls_amount             50000 non-null  float64\n",
      " 9   imp_surcharge            50000 non-null  float64\n",
      " 10  total_amount             50000 non-null  float64\n",
      " 11  pickup_location_id       50000 non-null  int64  \n",
      " 12  dropoff_location_id      50000 non-null  int64  \n",
      " 13  year                     50000 non-null  int64  \n",
      " 14  month                    50000 non-null  int64  \n",
      " 15  day                      50000 non-null  int64  \n",
      " 16  day_of_week              50000 non-null  int64  \n",
      " 17  hour_of_day              50000 non-null  int64  \n",
      " 18  trip_duration            50000 non-null  float64\n",
      " 19  calculated_total_amount  35000 non-null  float64\n",
      "dtypes: float64(10), int64(9), object(1)\n",
      "memory usage: 8.0+ MB\n"
     ]
    }
   ],
   "source": [
    "final_df.info()"
   ]
  },
  {
   "cell_type": "code",
   "execution_count": 29,
   "id": "f172929a",
   "metadata": {},
   "outputs": [],
   "source": [
    "final_df=final_df.replace({'store_and_fwd_flag' : { 'N' : 0, 'Y' : 1}})"
   ]
  },
  {
   "cell_type": "code",
   "execution_count": 30,
   "id": "309cd82c",
   "metadata": {},
   "outputs": [],
   "source": [
    "df_Train=final_df.iloc[:35000,:]\n",
    "df_Test=final_df.iloc[35000:,:]"
   ]
  },
  {
   "cell_type": "code",
   "execution_count": 31,
   "id": "394c299d",
   "metadata": {},
   "outputs": [
    {
     "data": {
      "text/plain": [
       "trip_distance              0\n",
       "rate_code                  0\n",
       "store_and_fwd_flag         0\n",
       "payment_type               0\n",
       "fare_amount                0\n",
       "extra                      0\n",
       "mta_tax                    0\n",
       "tip_amount                 0\n",
       "tolls_amount               0\n",
       "imp_surcharge              0\n",
       "total_amount               0\n",
       "pickup_location_id         0\n",
       "dropoff_location_id        0\n",
       "year                       0\n",
       "month                      0\n",
       "day                        0\n",
       "day_of_week                0\n",
       "hour_of_day                0\n",
       "trip_duration              0\n",
       "calculated_total_amount    0\n",
       "dtype: int64"
      ]
     },
     "execution_count": 31,
     "metadata": {},
     "output_type": "execute_result"
    }
   ],
   "source": [
    "df_Train.isnull().sum()"
   ]
  },
  {
   "cell_type": "code",
   "execution_count": 32,
   "id": "02d54616",
   "metadata": {},
   "outputs": [
    {
     "name": "stderr",
     "output_type": "stream",
     "text": [
      "C:\\Users\\HP\\AppData\\Local\\Temp\\ipykernel_8112\\489001993.py:1: SettingWithCopyWarning: \n",
      "A value is trying to be set on a copy of a slice from a DataFrame\n",
      "\n",
      "See the caveats in the documentation: https://pandas.pydata.org/pandas-docs/stable/user_guide/indexing.html#returning-a-view-versus-a-copy\n",
      "  df_Test.drop(['calculated_total_amount'],axis=1,inplace=True)\n"
     ]
    }
   ],
   "source": [
    "df_Test.drop(['calculated_total_amount'],axis=1,inplace=True)"
   ]
  },
  {
   "cell_type": "code",
   "execution_count": 33,
   "id": "3071b807",
   "metadata": {},
   "outputs": [],
   "source": [
    "X_train=df_Train.drop(['calculated_total_amount'],axis=1)\n",
    "y_train=df_Train['calculated_total_amount']"
   ]
  },
  {
   "cell_type": "code",
   "execution_count": 34,
   "id": "8922c682",
   "metadata": {},
   "outputs": [],
   "source": [
    "dtc=DecisionTreeRegressor()"
   ]
  },
  {
   "cell_type": "code",
   "execution_count": 35,
   "id": "0cb528a0",
   "metadata": {},
   "outputs": [],
   "source": [
    "estimators = [\n",
    "('standardscalar',StandardScaler()),\n",
    "('pca', PCA(2)),\n",
    "('dtc', dtc)\n",
    "]"
   ]
  },
  {
   "cell_type": "code",
   "execution_count": 36,
   "id": "10787824",
   "metadata": {},
   "outputs": [],
   "source": [
    "dtc_pipeline = Pipeline(steps=estimators)"
   ]
  },
  {
   "cell_type": "code",
   "execution_count": 37,
   "id": "7215c80d",
   "metadata": {},
   "outputs": [
    {
     "data": {
      "text/plain": [
       "Pipeline(steps=[('standardscalar', StandardScaler()),\n",
       "                ('pca', PCA(n_components=2)),\n",
       "                ('dtc', DecisionTreeRegressor())])"
      ]
     },
     "execution_count": 37,
     "metadata": {},
     "output_type": "execute_result"
    }
   ],
   "source": [
    "dtc_pipeline.fit(X_train,y_train)"
   ]
  },
  {
   "cell_type": "code",
   "execution_count": 38,
   "id": "fc554fe0",
   "metadata": {},
   "outputs": [
    {
     "data": {
      "text/plain": [
       "-0.4910639452232648"
      ]
     },
     "execution_count": 38,
     "metadata": {},
     "output_type": "execute_result"
    }
   ],
   "source": [
    "dtc_pipeline.score(X_train,y_train)"
   ]
  },
  {
   "cell_type": "code",
   "execution_count": 42,
   "id": "4a0833b9",
   "metadata": {},
   "outputs": [],
   "source": [
    "params = {\n",
    "    'dtc__max_depth': [3,5,8,12,15],\n",
    "    'dtc__min_samples_leaf': [5,8,12,15,20],\n",
    "    'dtc__criterion': [\"gini\", \"entropy\"]\n",
    "}"
   ]
  },
  {
   "cell_type": "code",
   "execution_count": 43,
   "id": "9f3886f5",
   "metadata": {},
   "outputs": [],
   "source": [
    "from sklearn.model_selection import GridSearchCV\n",
    "import numpy as np"
   ]
  },
  {
   "cell_type": "code",
   "execution_count": 44,
   "id": "ec559ae3",
   "metadata": {},
   "outputs": [],
   "source": [
    "grid_search = GridSearchCV(dtc_pipeline, param_grid=params,verbose = 1, cv=3, n_jobs = -1)"
   ]
  },
  {
   "cell_type": "code",
   "execution_count": 45,
   "id": "4197851c",
   "metadata": {},
   "outputs": [],
   "source": [
    "import xgboost\n",
    "regressor=xgboost.XGBRegressor()"
   ]
  },
  {
   "cell_type": "code",
   "execution_count": 46,
   "id": "a8e92dc8",
   "metadata": {},
   "outputs": [],
   "source": [
    "booster=['gbtree','gblinear']\n",
    "base_score=[0.25,0.5,0.75,1]"
   ]
  },
  {
   "cell_type": "code",
   "execution_count": 47,
   "id": "042fa123",
   "metadata": {},
   "outputs": [],
   "source": [
    "## Hyper Parameter Optimization\n",
    "\n",
    "\n",
    "n_estimators = [100, 500, 900, 1100]\n",
    "max_depth = [2, 3, 5, 10, 15]\n",
    "booster=['gbtree','gblinear']\n",
    "learning_rate=[0.05,0.1,0.15,0.20]\n",
    "min_child_weight=[1,2,3,4]\n",
    "\n",
    "# Define the grid of hyperparameters to search\n",
    "hyperparameter_grid = {\n",
    "    'n_estimators': n_estimators,\n",
    "    'max_depth':max_depth,\n",
    "    'learning_rate':learning_rate,\n",
    "    'min_child_weight':min_child_weight,\n",
    "    'booster':booster,\n",
    "    'base_score':base_score\n",
    "    }"
   ]
  },
  {
   "cell_type": "code",
   "execution_count": 49,
   "id": "66545c09",
   "metadata": {},
   "outputs": [],
   "source": [
    "Grid_cv = GridSearchCV(estimator=regressor,\n",
    "            param_grid=hyperparameter_grid,\n",
    "            cv=3, \n",
    "            scoring = 'neg_mean_absolute_error',n_jobs = 4,\n",
    "            verbose = 5, \n",
    "            return_train_score = True)"
   ]
  },
  {
   "cell_type": "code",
   "execution_count": null,
   "id": "e229c58c",
   "metadata": {},
   "outputs": [
    {
     "name": "stdout",
     "output_type": "stream",
     "text": [
      "Fitting 3 folds for each of 2560 candidates, totalling 7680 fits\n"
     ]
    }
   ],
   "source": [
    "Grid_cv.fit(X_train,y_train)"
   ]
  },
  {
   "cell_type": "code",
   "execution_count": null,
   "id": "ce2665ce",
   "metadata": {},
   "outputs": [],
   "source": []
  }
 ],
 "metadata": {
  "kernelspec": {
   "display_name": "Python 3 (ipykernel)",
   "language": "python",
   "name": "python3"
  },
  "language_info": {
   "codemirror_mode": {
    "name": "ipython",
    "version": 3
   },
   "file_extension": ".py",
   "mimetype": "text/x-python",
   "name": "python",
   "nbconvert_exporter": "python",
   "pygments_lexer": "ipython3",
   "version": "3.9.13"
  }
 },
 "nbformat": 4,
 "nbformat_minor": 5
}
