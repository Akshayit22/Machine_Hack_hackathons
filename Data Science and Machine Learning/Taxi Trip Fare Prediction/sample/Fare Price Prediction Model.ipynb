{
 "cells": [
  {
   "cell_type": "code",
   "execution_count": 1,
   "metadata": {},
   "outputs": [],
   "source": [
    "# import the required package and libraries\n",
    "import pandas as pd\n",
    "import numpy as np\n",
    "import matplotlib.pyplot as plt\n",
    "import seaborn as sns\n",
    "import os"
   ]
  },
  {
   "cell_type": "markdown",
   "metadata": {},
   "source": [
    "1. Data Sourcing and intial checks\n",
    "2. Data Exploration (univariate - continuous)\n",
    "3. Data Exploration (Bivariate)\n",
    "4. Merge train and test data\n",
    "5. Change data type\n",
    "6. Dummy Variable Creation\n",
    "7. train - test split\n",
    "8. Model Building\n",
    "9. Prediction"
   ]
  },
  {
   "cell_type": "markdown",
   "metadata": {},
   "source": [
    "                                           1. Data Sourcing and initial checks"
   ]
  },
  {
   "cell_type": "code",
   "execution_count": 2,
   "metadata": {},
   "outputs": [
    {
     "data": {
      "text/html": [
       "<div>\n",
       "<style scoped>\n",
       "    .dataframe tbody tr th:only-of-type {\n",
       "        vertical-align: middle;\n",
       "    }\n",
       "\n",
       "    .dataframe tbody tr th {\n",
       "        vertical-align: top;\n",
       "    }\n",
       "\n",
       "    .dataframe thead th {\n",
       "        text-align: right;\n",
       "    }\n",
       "</style>\n",
       "<table border=\"1\" class=\"dataframe\">\n",
       "  <thead>\n",
       "    <tr style=\"text-align: right;\">\n",
       "      <th></th>\n",
       "      <th>trip_distance</th>\n",
       "      <th>rate_code</th>\n",
       "      <th>store_and_fwd_flag</th>\n",
       "      <th>payment_type</th>\n",
       "      <th>fare_amount</th>\n",
       "      <th>extra</th>\n",
       "      <th>mta_tax</th>\n",
       "      <th>tip_amount</th>\n",
       "      <th>tolls_amount</th>\n",
       "      <th>imp_surcharge</th>\n",
       "      <th>total_amount</th>\n",
       "      <th>pickup_location_id</th>\n",
       "      <th>dropoff_location_id</th>\n",
       "      <th>year</th>\n",
       "      <th>month</th>\n",
       "      <th>day</th>\n",
       "      <th>day_of_week</th>\n",
       "      <th>hour_of_day</th>\n",
       "      <th>trip_duration</th>\n",
       "      <th>calculated_total_amount</th>\n",
       "    </tr>\n",
       "  </thead>\n",
       "  <tbody>\n",
       "    <tr>\n",
       "      <th>0</th>\n",
       "      <td>9.01</td>\n",
       "      <td>1</td>\n",
       "      <td>N</td>\n",
       "      <td>1</td>\n",
       "      <td>26.0</td>\n",
       "      <td>0.0</td>\n",
       "      <td>0.5</td>\n",
       "      <td>8.14</td>\n",
       "      <td>5.76</td>\n",
       "      <td>0.3</td>\n",
       "      <td>40.70</td>\n",
       "      <td>262</td>\n",
       "      <td>138</td>\n",
       "      <td>2018</td>\n",
       "      <td>3</td>\n",
       "      <td>7</td>\n",
       "      <td>2</td>\n",
       "      <td>6</td>\n",
       "      <td>2131.0</td>\n",
       "      <td>24.30</td>\n",
       "    </tr>\n",
       "    <tr>\n",
       "      <th>1</th>\n",
       "      <td>0.20</td>\n",
       "      <td>1</td>\n",
       "      <td>N</td>\n",
       "      <td>1</td>\n",
       "      <td>3.0</td>\n",
       "      <td>0.0</td>\n",
       "      <td>0.5</td>\n",
       "      <td>0.75</td>\n",
       "      <td>0.00</td>\n",
       "      <td>0.3</td>\n",
       "      <td>4.55</td>\n",
       "      <td>263</td>\n",
       "      <td>236</td>\n",
       "      <td>2018</td>\n",
       "      <td>2</td>\n",
       "      <td>25</td>\n",
       "      <td>6</td>\n",
       "      <td>10</td>\n",
       "      <td>2377.0</td>\n",
       "      <td>37.40</td>\n",
       "    </tr>\n",
       "    <tr>\n",
       "      <th>2</th>\n",
       "      <td>9.65</td>\n",
       "      <td>1</td>\n",
       "      <td>N</td>\n",
       "      <td>1</td>\n",
       "      <td>41.5</td>\n",
       "      <td>0.0</td>\n",
       "      <td>0.5</td>\n",
       "      <td>9.61</td>\n",
       "      <td>5.76</td>\n",
       "      <td>0.3</td>\n",
       "      <td>57.67</td>\n",
       "      <td>138</td>\n",
       "      <td>230</td>\n",
       "      <td>2018</td>\n",
       "      <td>1</td>\n",
       "      <td>29</td>\n",
       "      <td>0</td>\n",
       "      <td>8</td>\n",
       "      <td>1286.0</td>\n",
       "      <td>30.36</td>\n",
       "    </tr>\n",
       "    <tr>\n",
       "      <th>3</th>\n",
       "      <td>9.50</td>\n",
       "      <td>1</td>\n",
       "      <td>N</td>\n",
       "      <td>1</td>\n",
       "      <td>30.0</td>\n",
       "      <td>0.5</td>\n",
       "      <td>0.5</td>\n",
       "      <td>9.25</td>\n",
       "      <td>5.76</td>\n",
       "      <td>0.3</td>\n",
       "      <td>46.31</td>\n",
       "      <td>186</td>\n",
       "      <td>138</td>\n",
       "      <td>2018</td>\n",
       "      <td>9</td>\n",
       "      <td>25</td>\n",
       "      <td>1</td>\n",
       "      <td>20</td>\n",
       "      <td>2586.0</td>\n",
       "      <td>4.30</td>\n",
       "    </tr>\n",
       "    <tr>\n",
       "      <th>4</th>\n",
       "      <td>5.80</td>\n",
       "      <td>1</td>\n",
       "      <td>N</td>\n",
       "      <td>1</td>\n",
       "      <td>21.5</td>\n",
       "      <td>0.5</td>\n",
       "      <td>0.5</td>\n",
       "      <td>4.56</td>\n",
       "      <td>0.00</td>\n",
       "      <td>0.3</td>\n",
       "      <td>27.36</td>\n",
       "      <td>162</td>\n",
       "      <td>87</td>\n",
       "      <td>2018</td>\n",
       "      <td>8</td>\n",
       "      <td>20</td>\n",
       "      <td>0</td>\n",
       "      <td>21</td>\n",
       "      <td>1575.0</td>\n",
       "      <td>23.80</td>\n",
       "    </tr>\n",
       "  </tbody>\n",
       "</table>\n",
       "</div>"
      ],
      "text/plain": [
       "   trip_distance  rate_code store_and_fwd_flag  payment_type  fare_amount  \\\n",
       "0           9.01          1                  N             1         26.0   \n",
       "1           0.20          1                  N             1          3.0   \n",
       "2           9.65          1                  N             1         41.5   \n",
       "3           9.50          1                  N             1         30.0   \n",
       "4           5.80          1                  N             1         21.5   \n",
       "\n",
       "   extra  mta_tax  tip_amount  tolls_amount  imp_surcharge  total_amount  \\\n",
       "0    0.0      0.5        8.14          5.76            0.3         40.70   \n",
       "1    0.0      0.5        0.75          0.00            0.3          4.55   \n",
       "2    0.0      0.5        9.61          5.76            0.3         57.67   \n",
       "3    0.5      0.5        9.25          5.76            0.3         46.31   \n",
       "4    0.5      0.5        4.56          0.00            0.3         27.36   \n",
       "\n",
       "   pickup_location_id  dropoff_location_id  year  month  day  day_of_week  \\\n",
       "0                 262                  138  2018      3    7            2   \n",
       "1                 263                  236  2018      2   25            6   \n",
       "2                 138                  230  2018      1   29            0   \n",
       "3                 186                  138  2018      9   25            1   \n",
       "4                 162                   87  2018      8   20            0   \n",
       "\n",
       "   hour_of_day  trip_duration  calculated_total_amount  \n",
       "0            6         2131.0                    24.30  \n",
       "1           10         2377.0                    37.40  \n",
       "2            8         1286.0                    30.36  \n",
       "3           20         2586.0                     4.30  \n",
       "4           21         1575.0                    23.80  "
      ]
     },
     "execution_count": 2,
     "metadata": {},
     "output_type": "execute_result"
    }
   ],
   "source": [
    "train_df = pd.read_csv('train.csv')\n",
    "train_df.head(5)"
   ]
  },
  {
   "cell_type": "markdown",
   "metadata": {},
   "source": [
    "test_df = pd.read_csv('test.csv')\n",
    "test_df.head(5)"
   ]
  },
  {
   "cell_type": "code",
   "execution_count": 3,
   "metadata": {},
   "outputs": [
    {
     "data": {
      "text/plain": [
       "(35000, 20)"
      ]
     },
     "execution_count": 3,
     "metadata": {},
     "output_type": "execute_result"
    }
   ],
   "source": [
    "train_df.shape"
   ]
  },
  {
   "cell_type": "code",
   "execution_count": 4,
   "metadata": {},
   "outputs": [
    {
     "data": {
      "text/plain": [
       "Index(['trip_distance', 'rate_code', 'store_and_fwd_flag', 'payment_type',\n",
       "       'fare_amount', 'extra', 'mta_tax', 'tip_amount', 'tolls_amount',\n",
       "       'imp_surcharge', 'total_amount', 'pickup_location_id',\n",
       "       'dropoff_location_id', 'year', 'month', 'day', 'day_of_week',\n",
       "       'hour_of_day', 'trip_duration', 'calculated_total_amount'],\n",
       "      dtype='object')"
      ]
     },
     "execution_count": 4,
     "metadata": {},
     "output_type": "execute_result"
    }
   ],
   "source": [
    "train_df.columns"
   ]
  },
  {
   "cell_type": "code",
   "execution_count": 5,
   "metadata": {},
   "outputs": [
    {
     "name": "stdout",
     "output_type": "stream",
     "text": [
      "<class 'pandas.core.frame.DataFrame'>\n",
      "RangeIndex: 35000 entries, 0 to 34999\n",
      "Data columns (total 20 columns):\n",
      "trip_distance              35000 non-null float64\n",
      "rate_code                  35000 non-null int64\n",
      "store_and_fwd_flag         35000 non-null object\n",
      "payment_type               35000 non-null int64\n",
      "fare_amount                35000 non-null float64\n",
      "extra                      35000 non-null float64\n",
      "mta_tax                    35000 non-null float64\n",
      "tip_amount                 35000 non-null float64\n",
      "tolls_amount               35000 non-null float64\n",
      "imp_surcharge              35000 non-null float64\n",
      "total_amount               35000 non-null float64\n",
      "pickup_location_id         35000 non-null int64\n",
      "dropoff_location_id        35000 non-null int64\n",
      "year                       35000 non-null int64\n",
      "month                      35000 non-null int64\n",
      "day                        35000 non-null int64\n",
      "day_of_week                35000 non-null int64\n",
      "hour_of_day                35000 non-null int64\n",
      "trip_duration              35000 non-null float64\n",
      "calculated_total_amount    35000 non-null float64\n",
      "dtypes: float64(10), int64(9), object(1)\n",
      "memory usage: 5.3+ MB\n"
     ]
    }
   ],
   "source": [
    "train_df.info()"
   ]
  },
  {
   "cell_type": "code",
   "execution_count": 6,
   "metadata": {},
   "outputs": [
    {
     "data": {
      "text/plain": [
       "trip_distance              0\n",
       "rate_code                  0\n",
       "store_and_fwd_flag         0\n",
       "payment_type               0\n",
       "fare_amount                0\n",
       "extra                      0\n",
       "mta_tax                    0\n",
       "tip_amount                 0\n",
       "tolls_amount               0\n",
       "imp_surcharge              0\n",
       "total_amount               0\n",
       "pickup_location_id         0\n",
       "dropoff_location_id        0\n",
       "year                       0\n",
       "month                      0\n",
       "day                        0\n",
       "day_of_week                0\n",
       "hour_of_day                0\n",
       "trip_duration              0\n",
       "calculated_total_amount    0\n",
       "dtype: int64"
      ]
     },
     "execution_count": 6,
     "metadata": {},
     "output_type": "execute_result"
    }
   ],
   "source": [
    "train_df.isnull().sum()"
   ]
  },
  {
   "cell_type": "markdown",
   "metadata": {},
   "source": [
    "                                 2. Data Exploration (univariate - continuous)"
   ]
  },
  {
   "cell_type": "code",
   "execution_count": 7,
   "metadata": {},
   "outputs": [
    {
     "name": "stderr",
     "output_type": "stream",
     "text": [
      "C:\\Users\\Abin\\Anaconda3\\lib\\site-packages\\seaborn\\distributions.py:2619: FutureWarning: `distplot` is a deprecated function and will be removed in a future version. Please adapt your code to use either `displot` (a figure-level function with similar flexibility) or `histplot` (an axes-level function for histograms).\n",
      "  warnings.warn(msg, FutureWarning)\n"
     ]
    },
    {
     "data": {
      "image/png": "[encoded data removed]",
      "text/plain": [
       "<Figure size 432x288 with 1 Axes>"
      ]
     },
     "metadata": {},
     "output_type": "display_data"
    }
   ],
   "source": [
    "# set the background style of the plot\n",
    "sns.set_style('whitegrid')\n",
    "\n",
    "sns_plot = sns.distplot(train_df[\"trip_distance\"],kde=True, color='red',bins=50)"
   ]
  },
  {
   "cell_type": "code",
   "execution_count": 8,
   "metadata": {},
   "outputs": [
    {
     "name": "stderr",
     "output_type": "stream",
     "text": [
      "C:\\Users\\Abin\\Anaconda3\\lib\\site-packages\\seaborn\\distributions.py:2619: FutureWarning: `distplot` is a deprecated function and will be removed in a future version. Please adapt your code to use either `displot` (a figure-level function with similar flexibility) or `histplot` (an axes-level function for histograms).\n",
      "  warnings.warn(msg, FutureWarning)\n"
     ]
    },
    {
     "data": {
      "image/png": "[encoded data removed]",
      "text/plain": [
       "<Figure size 432x288 with 1 Axes>"
      ]
     },
     "metadata": {},
     "output_type": "display_data"
    }
   ],
   "source": [
    "# set the background style of the plot\n",
    "sns.set_style('whitegrid')\n",
    "\n",
    "sns_plot = sns.distplot(train_df[\"rate_code\"],kde=True, color='red',bins=50)"
   ]
  },
  {
   "cell_type": "code",
   "execution_count": 9,
   "metadata": {},
   "outputs": [
    {
     "name": "stderr",
     "output_type": "stream",
     "text": [
      "C:\\Users\\Abin\\Anaconda3\\lib\\site-packages\\seaborn\\distributions.py:2619: FutureWarning: `distplot` is a deprecated function and will be removed in a future version. Please adapt your code to use either `displot` (a figure-level function with similar flexibility) or `histplot` (an axes-level function for histograms).\n",
      "  warnings.warn(msg, FutureWarning)\n"
     ]
    },
    {
     "data": {
      "image/png": "[encoded data removed]",
      "text/plain": [
       "<Figure size 432x288 with 1 Axes>"
      ]
     },
     "metadata": {},
     "output_type": "display_data"
    }
   ],
   "source": [
    "# set the background style of the plot\n",
    "sns.set_style('whitegrid')\n",
    "\n",
    "sns_plot = sns.distplot(train_df[\"payment_type\"],kde=True, color='red',bins=50)"
   ]
  },
  {
   "cell_type": "code",
   "execution_count": 10,
   "metadata": {},
   "outputs": [
    {
     "name": "stderr",
     "output_type": "stream",
     "text": [
      "C:\\Users\\Abin\\Anaconda3\\lib\\site-packages\\seaborn\\distributions.py:2619: FutureWarning: `distplot` is a deprecated function and will be removed in a future version. Please adapt your code to use either `displot` (a figure-level function with similar flexibility) or `histplot` (an axes-level function for histograms).\n",
      "  warnings.warn(msg, FutureWarning)\n"
     ]
    },
    {
     "data": {
      "image/png": "[encoded data removed]",
      "text/plain": [
       "<Figure size 432x288 with 1 Axes>"
      ]
     },
     "metadata": {},
     "output_type": "display_data"
    }
   ],
   "source": [
    "# set the background style of the plot\n",
    "sns.set_style('whitegrid')\n",
    "\n",
    "sns_plot = sns.distplot(train_df[\"fare_amount\"],kde=True, color='red',bins=50)"
   ]
  },
  {
   "cell_type": "code",
   "execution_count": 11,
   "metadata": {},
   "outputs": [
    {
     "name": "stderr",
     "output_type": "stream",
     "text": [
      "C:\\Users\\Abin\\Anaconda3\\lib\\site-packages\\seaborn\\distributions.py:2619: FutureWarning: `distplot` is a deprecated function and will be removed in a future version. Please adapt your code to use either `displot` (a figure-level function with similar flexibility) or `histplot` (an axes-level function for histograms).\n",
      "  warnings.warn(msg, FutureWarning)\n"
     ]
    },
    {
     "data": {
      "image/png": "[encoded data removed]",
      "text/plain": [
       "<Figure size 432x288 with 1 Axes>"
      ]
     },
     "metadata": {},
     "output_type": "display_data"
    }
   ],
   "source": [
    "# set the background style of the plot\n",
    "sns.set_style('whitegrid')\n",
    "\n",
    "sns_plot = sns.distplot(train_df[\"extra\"],kde=True, color='red',bins=50)"
   ]
  },
  {
   "cell_type": "code",
   "execution_count": 12,
   "metadata": {},
   "outputs": [
    {
     "name": "stderr",
     "output_type": "stream",
     "text": [
      "C:\\Users\\Abin\\Anaconda3\\lib\\site-packages\\seaborn\\distributions.py:2619: FutureWarning: `distplot` is a deprecated function and will be removed in a future version. Please adapt your code to use either `displot` (a figure-level function with similar flexibility) or `histplot` (an axes-level function for histograms).\n",
      "  warnings.warn(msg, FutureWarning)\n"
     ]
    },
    {
     "data": {
      "image/png": "[encoded data removed]",
      "text/plain": [
       "<Figure size 432x288 with 1 Axes>"
      ]
     },
     "metadata": {},
     "output_type": "display_data"
    }
   ],
   "source": [
    "# set the background style of the plot\n",
    "sns.set_style('whitegrid')\n",
    "\n",
    "sns_plot = sns.distplot(train_df[\"mta_tax\"],kde=True, color='red',bins=50)"
   ]
  },
  {
   "cell_type": "code",
   "execution_count": 13,
   "metadata": {},
   "outputs": [
    {
     "name": "stderr",
     "output_type": "stream",
     "text": [
      "C:\\Users\\Abin\\Anaconda3\\lib\\site-packages\\seaborn\\distributions.py:2619: FutureWarning: `distplot` is a deprecated function and will be removed in a future version. Please adapt your code to use either `displot` (a figure-level function with similar flexibility) or `histplot` (an axes-level function for histograms).\n",
      "  warnings.warn(msg, FutureWarning)\n"
     ]
    },
    {
     "data": {
      "image/png": "[encoded data removed]",
      "text/plain": [
       "<Figure size 432x288 with 1 Axes>"
      ]
     },
     "metadata": {},
     "output_type": "display_data"
    }
   ],
   "source": [
    "# set the background style of the plot\n",
    "sns.set_style('whitegrid')\n",
    "\n",
    "sns_plot = sns.distplot(train_df[\"tip_amount\"],kde=True, color='red',bins=50)"
   ]
  },
  {
   "cell_type": "code",
   "execution_count": 14,
   "metadata": {},
   "outputs": [
    {
     "name": "stderr",
     "output_type": "stream",
     "text": [
      "C:\\Users\\Abin\\Anaconda3\\lib\\site-packages\\seaborn\\distributions.py:2619: FutureWarning: `distplot` is a deprecated function and will be removed in a future version. Please adapt your code to use either `displot` (a figure-level function with similar flexibility) or `histplot` (an axes-level function for histograms).\n",
      "  warnings.warn(msg, FutureWarning)\n"
     ]
    },
    {
     "data": {
      "image/png": "[encoded data removed]",
      "text/plain": [
       "<Figure size 432x288 with 1 Axes>"
      ]
     },
     "metadata": {},
     "output_type": "display_data"
    }
   ],
   "source": [
    "# set the background style of the plot\n",
    "sns.set_style('whitegrid')\n",
    "\n",
    "sns_plot = sns.distplot(train_df[\"imp_surcharge\"],kde=True, color='red',bins=50)"
   ]
  },
  {
   "cell_type": "code",
   "execution_count": 15,
   "metadata": {},
   "outputs": [
    {
     "name": "stderr",
     "output_type": "stream",
     "text": [
      "C:\\Users\\Abin\\Anaconda3\\lib\\site-packages\\seaborn\\distributions.py:2619: FutureWarning: `distplot` is a deprecated function and will be removed in a future version. Please adapt your code to use either `displot` (a figure-level function with similar flexibility) or `histplot` (an axes-level function for histograms).\n",
      "  warnings.warn(msg, FutureWarning)\n"
     ]
    },
    {
     "data": {
      "image/png": "[encoded data removed]",
      "text/plain": [
       "<Figure size 432x288 with 1 Axes>"
      ]
     },
     "metadata": {},
     "output_type": "display_data"
    }
   ],
   "source": [
    "# set the background style of the plot\n",
    "sns.set_style('whitegrid')\n",
    "\n",
    "sns_plot = sns.distplot(train_df[\"tolls_amount\"],kde=True, color='red',bins=50)"
   ]
  },
  {
   "cell_type": "code",
   "execution_count": 16,
   "metadata": {},
   "outputs": [
    {
     "name": "stderr",
     "output_type": "stream",
     "text": [
      "C:\\Users\\Abin\\Anaconda3\\lib\\site-packages\\seaborn\\distributions.py:2619: FutureWarning: `distplot` is a deprecated function and will be removed in a future version. Please adapt your code to use either `displot` (a figure-level function with similar flexibility) or `histplot` (an axes-level function for histograms).\n",
      "  warnings.warn(msg, FutureWarning)\n"
     ]
    },
    {
     "data": {
      "image/png": "[encoded data removed]",
      "text/plain": [
       "<Figure size 432x288 with 1 Axes>"
      ]
     },
     "metadata": {},
     "output_type": "display_data"
    }
   ],
   "source": [
    "# set the background style of the plot\n",
    "sns.set_style('whitegrid')\n",
    "\n",
    "sns_plot = sns.distplot(train_df[\"total_amount\"],kde=True, color='red',bins=50)"
   ]
  },
  {
   "cell_type": "code",
   "execution_count": 17,
   "metadata": {},
   "outputs": [
    {
     "name": "stderr",
     "output_type": "stream",
     "text": [
      "C:\\Users\\Abin\\Anaconda3\\lib\\site-packages\\seaborn\\distributions.py:2619: FutureWarning: `distplot` is a deprecated function and will be removed in a future version. Please adapt your code to use either `displot` (a figure-level function with similar flexibility) or `histplot` (an axes-level function for histograms).\n",
      "  warnings.warn(msg, FutureWarning)\n"
     ]
    },
    {
     "data": {
      "image/png": "[encoded data removed]",
      "text/plain": [
       "<Figure size 432x288 with 1 Axes>"
      ]
     },
     "metadata": {},
     "output_type": "display_data"
    }
   ],
   "source": [
    "# set the background style of the plot\n",
    "sns.set_style('whitegrid')\n",
    "\n",
    "sns_plot = sns.distplot(train_df[\"pickup_location_id\"],kde=True, color='red',bins=50)"
   ]
  },
  {
   "cell_type": "code",
   "execution_count": 18,
   "metadata": {},
   "outputs": [
    {
     "name": "stderr",
     "output_type": "stream",
     "text": [
      "C:\\Users\\Abin\\Anaconda3\\lib\\site-packages\\seaborn\\distributions.py:2619: FutureWarning: `distplot` is a deprecated function and will be removed in a future version. Please adapt your code to use either `displot` (a figure-level function with similar flexibility) or `histplot` (an axes-level function for histograms).\n",
      "  warnings.warn(msg, FutureWarning)\n"
     ]
    },
    {
     "data": {
      "image/png": "[encoded data removed]",
      "text/plain": [
       "<Figure size 432x288 with 1 Axes>"
      ]
     },
     "metadata": {},
     "output_type": "display_data"
    }
   ],
   "source": [
    "# set the background style of the plot\n",
    "sns.set_style('whitegrid')\n",
    "\n",
    "sns_plot = sns.distplot(train_df[\"dropoff_location_id\"],kde=True, color='red',bins=50)"
   ]
  },
  {
   "cell_type": "code",
   "execution_count": 19,
   "metadata": {},
   "outputs": [
    {
     "name": "stderr",
     "output_type": "stream",
     "text": [
      "C:\\Users\\Abin\\Anaconda3\\lib\\site-packages\\seaborn\\distributions.py:2619: FutureWarning: `distplot` is a deprecated function and will be removed in a future version. Please adapt your code to use either `displot` (a figure-level function with similar flexibility) or `histplot` (an axes-level function for histograms).\n",
      "  warnings.warn(msg, FutureWarning)\n",
      "C:\\Users\\Abin\\Anaconda3\\lib\\site-packages\\seaborn\\distributions.py:316: UserWarning: Dataset has 0 variance; skipping density estimate. Pass `warn_singular=False` to disable this warning.\n",
      "  warnings.warn(msg, UserWarning)\n"
     ]
    },
    {
     "data": {
      "image/png": "[encoded data removed]",
      "text/plain": [
       "<Figure size 432x288 with 1 Axes>"
      ]
     },
     "metadata": {},
     "output_type": "display_data"
    }
   ],
   "source": [
    "# set the background style of the plot\n",
    "sns.set_style('whitegrid')\n",
    "\n",
    "sns_plot = sns.distplot(train_df[\"year\"],kde=True, color='red',bins=50)"
   ]
  },
  {
   "cell_type": "code",
   "execution_count": 20,
   "metadata": {},
   "outputs": [
    {
     "name": "stderr",
     "output_type": "stream",
     "text": [
      "C:\\Users\\Abin\\Anaconda3\\lib\\site-packages\\seaborn\\distributions.py:2619: FutureWarning: `distplot` is a deprecated function and will be removed in a future version. Please adapt your code to use either `displot` (a figure-level function with similar flexibility) or `histplot` (an axes-level function for histograms).\n",
      "  warnings.warn(msg, FutureWarning)\n"
     ]
    },
    {
     "data": {
      "image/png": "[encoded data removed]",
      "text/plain": [
       "<Figure size 432x288 with 1 Axes>"
      ]
     },
     "metadata": {},
     "output_type": "display_data"
    }
   ],
   "source": [
    "# set the background style of the plot\n",
    "sns.set_style('whitegrid')\n",
    "\n",
    "sns_plot = sns.distplot(train_df[\"month\"],kde=True, color='red',bins=50)"
   ]
  },
  {
   "cell_type": "code",
   "execution_count": 21,
   "metadata": {},
   "outputs": [
    {
     "name": "stderr",
     "output_type": "stream",
     "text": [
      "C:\\Users\\Abin\\Anaconda3\\lib\\site-packages\\seaborn\\distributions.py:2619: FutureWarning: `distplot` is a deprecated function and will be removed in a future version. Please adapt your code to use either `displot` (a figure-level function with similar flexibility) or `histplot` (an axes-level function for histograms).\n",
      "  warnings.warn(msg, FutureWarning)\n"
     ]
    },
    {
     "data": {
      "image/png": "[encoded data removed]",
      "text/plain": [
       "<Figure size 432x288 with 1 Axes>"
      ]
     },
     "metadata": {},
     "output_type": "display_data"
    }
   ],
   "source": [
    "# set the background style of the plot\n",
    "sns.set_style('whitegrid')\n",
    "\n",
    "sns_plot = sns.distplot(train_df[\"day\"],kde=True, color='red',bins=50)"
   ]
  },
  {
   "cell_type": "code",
   "execution_count": 22,
   "metadata": {},
   "outputs": [
    {
     "name": "stderr",
     "output_type": "stream",
     "text": [
      "C:\\Users\\Abin\\Anaconda3\\lib\\site-packages\\seaborn\\distributions.py:2619: FutureWarning: `distplot` is a deprecated function and will be removed in a future version. Please adapt your code to use either `displot` (a figure-level function with similar flexibility) or `histplot` (an axes-level function for histograms).\n",
      "  warnings.warn(msg, FutureWarning)\n"
     ]
    },
    {
     "data": {
      "image/png": "[encoded data removed]",
      "text/plain": [
       "<Figure size 432x288 with 1 Axes>"
      ]
     },
     "metadata": {},
     "output_type": "display_data"
    }
   ],
   "source": [
    "# set the background style of the plot\n",
    "sns.set_style('whitegrid')\n",
    "\n",
    "sns_plot = sns.distplot(train_df[\"day_of_week\"],kde=True, color='red',bins=50)"
   ]
  },
  {
   "cell_type": "code",
   "execution_count": 23,
   "metadata": {},
   "outputs": [
    {
     "name": "stderr",
     "output_type": "stream",
     "text": [
      "C:\\Users\\Abin\\Anaconda3\\lib\\site-packages\\seaborn\\distributions.py:2619: FutureWarning: `distplot` is a deprecated function and will be removed in a future version. Please adapt your code to use either `displot` (a figure-level function with similar flexibility) or `histplot` (an axes-level function for histograms).\n",
      "  warnings.warn(msg, FutureWarning)\n"
     ]
    },
    {
     "data": {
      "image/png": "[encoded data removed]",
      "text/plain": [
       "<Figure size 432x288 with 1 Axes>"
      ]
     },
     "metadata": {},
     "output_type": "display_data"
    }
   ],
   "source": [
    "# set the background style of the plot\n",
    "sns.set_style('whitegrid')\n",
    "\n",
    "sns_plot = sns.distplot(train_df[\"hour_of_day\"],kde=True, color='red',bins=50)"
   ]
  },
  {
   "cell_type": "code",
   "execution_count": 24,
   "metadata": {},
   "outputs": [
    {
     "name": "stderr",
     "output_type": "stream",
     "text": [
      "C:\\Users\\Abin\\Anaconda3\\lib\\site-packages\\seaborn\\distributions.py:2619: FutureWarning: `distplot` is a deprecated function and will be removed in a future version. Please adapt your code to use either `displot` (a figure-level function with similar flexibility) or `histplot` (an axes-level function for histograms).\n",
      "  warnings.warn(msg, FutureWarning)\n"
     ]
    },
    {
     "data": {
      "image/png": "[encoded data removed]",
      "text/plain": [
       "<Figure size 432x288 with 1 Axes>"
      ]
     },
     "metadata": {},
     "output_type": "display_data"
    }
   ],
   "source": [
    "# set the background style of the plot\n",
    "sns.set_style('whitegrid')\n",
    "\n",
    "sns_plot = sns.distplot(train_df[\"trip_duration\"],kde=True, color='red',bins=50)"
   ]
  },
  {
   "cell_type": "code",
   "execution_count": 25,
   "metadata": {},
   "outputs": [
    {
     "name": "stderr",
     "output_type": "stream",
     "text": [
      "C:\\Users\\Abin\\Anaconda3\\lib\\site-packages\\seaborn\\distributions.py:2619: FutureWarning: `distplot` is a deprecated function and will be removed in a future version. Please adapt your code to use either `displot` (a figure-level function with similar flexibility) or `histplot` (an axes-level function for histograms).\n",
      "  warnings.warn(msg, FutureWarning)\n"
     ]
    },
    {
     "data": {
      "image/png": "[encoded data removed]",
      "text/plain": [
       "<Figure size 432x288 with 1 Axes>"
      ]
     },
     "metadata": {},
     "output_type": "display_data"
    }
   ],
   "source": [
    "# set the background style of the plot\n",
    "sns.set_style('whitegrid')\n",
    "\n",
    "sns_plot = sns.distplot(train_df[\"calculated_total_amount\"],kde=True, color='red',bins=50)"
   ]
  },
  {
   "cell_type": "markdown",
   "metadata": {},
   "source": [
    "##smmary##\n",
    "\n",
    "Need outlier treatment\n",
    "-->trip_distance\n",
    "-->fare_amount\n",
    "-->extra\n",
    "-->mta_tax\n",
    "-->tip_amount\n",
    "-->tolls_amount\n",
    "-->trip_duration\n",
    "-->calculated_total_amount\n",
    "\n",
    "\n",
    "change datatype to categorical\n",
    "-->rate_code\n",
    "-->payment_type\n",
    "-->month\n",
    "-->day\n",
    "-->day_of_week\n",
    "-->hour_of_day\n",
    "\n",
    "binning\n",
    "-->imp_surcharge\n",
    "-->mta_tax\n",
    "-->tolls_amount\n",
    "-->hour_of_day\n",
    "\n",
    "unique\n",
    "-->year"
   ]
  },
  {
   "cell_type": "markdown",
   "metadata": {},
   "source": [
    "                                             3. Data Exploration (Bivariate)"
   ]
  },
  {
   "cell_type": "code",
   "execution_count": 26,
   "metadata": {},
   "outputs": [
    {
     "data": {
      "text/plain": [
       "<matplotlib.axes._subplots.AxesSubplot at 0x1db7a7604e0>"
      ]
     },
     "execution_count": 26,
     "metadata": {},
     "output_type": "execute_result"
    },
    {
     "data": {
      "image/png": "[encoded data removed]",
      "text/plain": [
       "<Figure size 432x288 with 1 Axes>"
      ]
     },
     "metadata": {},
     "output_type": "display_data"
    }
   ],
   "source": [
    "sns.set(style='whitegrid')\n",
    "sns.scatterplot(x=train_df['trip_distance'],y=train_df['calculated_total_amount'])"
   ]
  },
  {
   "cell_type": "code",
   "execution_count": 27,
   "metadata": {},
   "outputs": [
    {
     "data": {
      "text/plain": [
       "<matplotlib.axes._subplots.AxesSubplot at 0x1db7a5ee668>"
      ]
     },
     "execution_count": 27,
     "metadata": {},
     "output_type": "execute_result"
    },
    {
     "data": {
      "image/png": "[encoded data removed]",
      "text/plain": [
       "<Figure size 432x288 with 1 Axes>"
      ]
     },
     "metadata": {},
     "output_type": "display_data"
    }
   ],
   "source": [
    "sns.set(style='whitegrid')\n",
    "sns.scatterplot(x=train_df['fare_amount'],y=train_df['calculated_total_amount'])"
   ]
  },
  {
   "cell_type": "code",
   "execution_count": 28,
   "metadata": {},
   "outputs": [
    {
     "data": {
      "text/plain": [
       "<matplotlib.axes._subplots.AxesSubplot at 0x1db7a6b2518>"
      ]
     },
     "execution_count": 28,
     "metadata": {},
     "output_type": "execute_result"
    },
    {
     "data": {
      "image/png": "[encoded data removed]",
      "text/plain": [
       "<Figure size 432x288 with 1 Axes>"
      ]
     },
     "metadata": {},
     "output_type": "display_data"
    }
   ],
   "source": [
    "sns.set(style='whitegrid')\n",
    "sns.scatterplot(x=train_df['total_amount'],y=train_df['calculated_total_amount'])"
   ]
  },
  {
   "cell_type": "code",
   "execution_count": 29,
   "metadata": {},
   "outputs": [
    {
     "data": {
      "text/plain": [
       "<matplotlib.axes._subplots.AxesSubplot at 0x1db7a05c978>"
      ]
     },
     "execution_count": 29,
     "metadata": {},
     "output_type": "execute_result"
    },
    {
     "data": {
      "image/png": "[encoded data removed]",
      "text/plain": [
       "<Figure size 432x288 with 1 Axes>"
      ]
     },
     "metadata": {},
     "output_type": "display_data"
    }
   ],
   "source": [
    "sns.set(style='whitegrid')\n",
    "sns.scatterplot(x=train_df['trip_duration'],y=train_df['calculated_total_amount'])"
   ]
  },
  {
   "cell_type": "markdown",
   "metadata": {},
   "source": [
    "## Outlier Treatment ##"
   ]
  },
  {
   "cell_type": "markdown",
   "metadata": {},
   "source": [
    "#1. calculated_total_amount"
   ]
  },
  {
   "cell_type": "code",
   "execution_count": 30,
   "metadata": {},
   "outputs": [],
   "source": [
    "def return_percentile(var):\n",
    "    print('lowest percentile is {}'.format(np.percentile(train_df[var],[0,1,2,3,4,5])))\n",
    "    print('highest percentile is {}'.format(np.percentile(train_df[var],[95,96,97,98,99,100])))"
   ]
  },
  {
   "cell_type": "code",
   "execution_count": 31,
   "metadata": {},
   "outputs": [],
   "source": [
    "def plot_distplot(var):\n",
    "    # set the background style of the plot\n",
    "    sns.set_style('whitegrid')\n",
    "\n",
    "    sns_plot = sns.distplot(train_df[var],kde=True, color='red',bins=50)"
   ]
  },
  {
   "cell_type": "code",
   "execution_count": 32,
   "metadata": {},
   "outputs": [
    {
     "name": "stdout",
     "output_type": "stream",
     "text": [
      "lowest percentile is [ 0.31  4.3   4.56  5.59 22.8  23.8 ]\n",
      "highest percentile is [ 68.82    73.8     83.16    95.2902 109.7504 468.35  ]\n"
     ]
    }
   ],
   "source": [
    "return_percentile('calculated_total_amount')"
   ]
  },
  {
   "cell_type": "code",
   "execution_count": 33,
   "metadata": {},
   "outputs": [],
   "source": [
    "train_df.loc[train_df['calculated_total_amount']>110,'calculated_total_amount'] = 109.7504"
   ]
  },
  {
   "cell_type": "code",
   "execution_count": 34,
   "metadata": {},
   "outputs": [
    {
     "name": "stderr",
     "output_type": "stream",
     "text": [
      "C:\\Users\\Abin\\Anaconda3\\lib\\site-packages\\seaborn\\distributions.py:2619: FutureWarning: `distplot` is a deprecated function and will be removed in a future version. Please adapt your code to use either `displot` (a figure-level function with similar flexibility) or `histplot` (an axes-level function for histograms).\n",
      "  warnings.warn(msg, FutureWarning)\n"
     ]
    },
    {
     "data": {
      "image/png": "[encoded data removed]",
      "text/plain": [
       "<Figure size 432x288 with 1 Axes>"
      ]
     },
     "metadata": {},
     "output_type": "display_data"
    }
   ],
   "source": [
    "plot_distplot('calculated_total_amount')"
   ]
  },
  {
   "cell_type": "markdown",
   "metadata": {},
   "source": [
    "#2. trip_distance"
   ]
  },
  {
   "cell_type": "code",
   "execution_count": 35,
   "metadata": {},
   "outputs": [
    {
     "name": "stdout",
     "output_type": "stream",
     "text": [
      "lowest percentile is [0.01 0.16 0.26 0.36 2.44 3.1 ]\n",
      "highest percentile is [16.8    17.69   18.7    20.2204 23.5501 79.01  ]\n"
     ]
    }
   ],
   "source": [
    "return_percentile('trip_distance')"
   ]
  },
  {
   "cell_type": "code",
   "execution_count": 36,
   "metadata": {},
   "outputs": [],
   "source": [
    "train_df.loc[train_df['trip_distance']>24,'trip_distance'] = 24"
   ]
  },
  {
   "cell_type": "code",
   "execution_count": 37,
   "metadata": {},
   "outputs": [
    {
     "name": "stderr",
     "output_type": "stream",
     "text": [
      "C:\\Users\\Abin\\Anaconda3\\lib\\site-packages\\seaborn\\distributions.py:2619: FutureWarning: `distplot` is a deprecated function and will be removed in a future version. Please adapt your code to use either `displot` (a figure-level function with similar flexibility) or `histplot` (an axes-level function for histograms).\n",
      "  warnings.warn(msg, FutureWarning)\n"
     ]
    },
    {
     "data": {
      "image/png": "[encoded data removed]",
      "text/plain": [
       "<Figure size 432x288 with 1 Axes>"
      ]
     },
     "metadata": {},
     "output_type": "display_data"
    }
   ],
   "source": [
    "plot_distplot('trip_distance')"
   ]
  },
  {
   "cell_type": "markdown",
   "metadata": {},
   "source": [
    "#3. fare_amount"
   ]
  },
  {
   "cell_type": "code",
   "execution_count": 38,
   "metadata": {},
   "outputs": [
    {
     "name": "stdout",
     "output_type": "stream",
     "text": [
      "lowest percentile is [1.00e-02 3.00e+00 3.00e+00 3.00e+00 2.15e+01 2.15e+01]\n",
      "highest percentile is [ 55.   59.5  64.5  70.   80.  400. ]\n"
     ]
    }
   ],
   "source": [
    "return_percentile('fare_amount')"
   ]
  },
  {
   "cell_type": "code",
   "execution_count": 39,
   "metadata": {},
   "outputs": [],
   "source": [
    "train_df.loc[train_df['fare_amount']>80,'fare_amount'] = 80\n",
    "train_df.loc[train_df['fare_amount']<21,'fare_amount'] = 21"
   ]
  },
  {
   "cell_type": "code",
   "execution_count": 40,
   "metadata": {},
   "outputs": [
    {
     "name": "stderr",
     "output_type": "stream",
     "text": [
      "C:\\Users\\Abin\\Anaconda3\\lib\\site-packages\\seaborn\\distributions.py:2619: FutureWarning: `distplot` is a deprecated function and will be removed in a future version. Please adapt your code to use either `displot` (a figure-level function with similar flexibility) or `histplot` (an axes-level function for histograms).\n",
      "  warnings.warn(msg, FutureWarning)\n"
     ]
    },
    {
     "data": {
      "image/png": "[encoded data removed]",
      "text/plain": [
       "<Figure size 432x288 with 1 Axes>"
      ]
     },
     "metadata": {},
     "output_type": "display_data"
    }
   ],
   "source": [
    "plot_distplot('fare_amount')"
   ]
  },
  {
   "cell_type": "markdown",
   "metadata": {},
   "source": [
    "#4. trip_duration"
   ]
  },
  {
   "cell_type": "code",
   "execution_count": 41,
   "metadata": {},
   "outputs": [
    {
     "name": "stdout",
     "output_type": "stream",
     "text": [
      "lowest percentile is [  1.    49.    70.    92.   823.96 926.  ]\n",
      "highest percentile is [ 3396.05  3540.    3746.03  4080.    4800.01 86347.  ]\n"
     ]
    }
   ],
   "source": [
    "return_percentile('trip_duration')"
   ]
  },
  {
   "cell_type": "code",
   "execution_count": 42,
   "metadata": {},
   "outputs": [],
   "source": [
    "train_df.loc[train_df['trip_duration']>4800,'trip_duration'] = 4800\n",
    "train_df.loc[train_df['trip_duration']<823,'trip_duration'] = 823"
   ]
  },
  {
   "cell_type": "code",
   "execution_count": 43,
   "metadata": {},
   "outputs": [
    {
     "name": "stderr",
     "output_type": "stream",
     "text": [
      "C:\\Users\\Abin\\Anaconda3\\lib\\site-packages\\seaborn\\distributions.py:2619: FutureWarning: `distplot` is a deprecated function and will be removed in a future version. Please adapt your code to use either `displot` (a figure-level function with similar flexibility) or `histplot` (an axes-level function for histograms).\n",
      "  warnings.warn(msg, FutureWarning)\n"
     ]
    },
    {
     "data": {
      "image/png": "[encoded data removed]",
      "text/plain": [
       "<Figure size 432x288 with 1 Axes>"
      ]
     },
     "metadata": {},
     "output_type": "display_data"
    }
   ],
   "source": [
    "plot_distplot('trip_duration')"
   ]
  },
  {
   "cell_type": "markdown",
   "metadata": {},
   "source": [
    "#5 Extra"
   ]
  },
  {
   "cell_type": "code",
   "execution_count": 44,
   "metadata": {},
   "outputs": [
    {
     "name": "stdout",
     "output_type": "stream",
     "text": [
      "lowest percentile is [0. 0. 0. 0. 0. 0.]\n",
      "highest percentile is [ 1.   1.   1.   1.   1.  18.5]\n"
     ]
    }
   ],
   "source": [
    "return_percentile('extra')"
   ]
  },
  {
   "cell_type": "code",
   "execution_count": 45,
   "metadata": {},
   "outputs": [],
   "source": [
    "train_df.loc[train_df['extra']>1,'extra'] = 1"
   ]
  },
  {
   "cell_type": "code",
   "execution_count": 46,
   "metadata": {},
   "outputs": [
    {
     "name": "stderr",
     "output_type": "stream",
     "text": [
      "C:\\Users\\Abin\\Anaconda3\\lib\\site-packages\\seaborn\\distributions.py:2619: FutureWarning: `distplot` is a deprecated function and will be removed in a future version. Please adapt your code to use either `displot` (a figure-level function with similar flexibility) or `histplot` (an axes-level function for histograms).\n",
      "  warnings.warn(msg, FutureWarning)\n"
     ]
    },
    {
     "data": {
      "image/png": "[encoded data removed]",
      "text/plain": [
       "<Figure size 432x288 with 1 Axes>"
      ]
     },
     "metadata": {},
     "output_type": "display_data"
    }
   ],
   "source": [
    "plot_distplot('extra')"
   ]
  },
  {
   "cell_type": "markdown",
   "metadata": {},
   "source": [
    "# 6 mta_tax"
   ]
  },
  {
   "cell_type": "code",
   "execution_count": 47,
   "metadata": {},
   "outputs": [
    {
     "name": "stdout",
     "output_type": "stream",
     "text": [
      "lowest percentile is [0.  0.  0.  0.5 0.5 0.5]\n",
      "highest percentile is [0.5 0.5 0.5 0.5 0.5 0.5]\n"
     ]
    }
   ],
   "source": [
    "return_percentile('mta_tax')"
   ]
  },
  {
   "cell_type": "code",
   "execution_count": 48,
   "metadata": {},
   "outputs": [],
   "source": [
    "train_df.loc[train_df['mta_tax']<0.5,'mta_tax'] = 0.5"
   ]
  },
  {
   "cell_type": "code",
   "execution_count": 49,
   "metadata": {},
   "outputs": [
    {
     "name": "stderr",
     "output_type": "stream",
     "text": [
      "C:\\Users\\Abin\\Anaconda3\\lib\\site-packages\\seaborn\\distributions.py:2619: FutureWarning: `distplot` is a deprecated function and will be removed in a future version. Please adapt your code to use either `displot` (a figure-level function with similar flexibility) or `histplot` (an axes-level function for histograms).\n",
      "  warnings.warn(msg, FutureWarning)\n",
      "C:\\Users\\Abin\\Anaconda3\\lib\\site-packages\\seaborn\\distributions.py:316: UserWarning: Dataset has 0 variance; skipping density estimate. Pass `warn_singular=False` to disable this warning.\n",
      "  warnings.warn(msg, UserWarning)\n"
     ]
    },
    {
     "data": {
      "image/png": "[encoded data removed]",
      "text/plain": [
       "<Figure size 432x288 with 1 Axes>"
      ]
     },
     "metadata": {},
     "output_type": "display_data"
    }
   ],
   "source": [
    "plot_distplot('mta_tax')"
   ]
  },
  {
   "cell_type": "markdown",
   "metadata": {},
   "source": [
    "# 7 tip_amount"
   ]
  },
  {
   "cell_type": "code",
   "execution_count": 50,
   "metadata": {},
   "outputs": [
    {
     "name": "stdout",
     "output_type": "stream",
     "text": [
      "lowest percentile is [0. 0. 0. 0. 0. 0.]\n",
      "highest percentile is [ 12.      12.7     13.91    15.4502  19.06   215.    ]\n"
     ]
    }
   ],
   "source": [
    "return_percentile('tip_amount')"
   ]
  },
  {
   "cell_type": "code",
   "execution_count": 51,
   "metadata": {},
   "outputs": [],
   "source": [
    "train_df.loc[train_df['tip_amount']>19.06,'tip_amount'] = 19.06"
   ]
  },
  {
   "cell_type": "code",
   "execution_count": 52,
   "metadata": {},
   "outputs": [
    {
     "name": "stderr",
     "output_type": "stream",
     "text": [
      "C:\\Users\\Abin\\Anaconda3\\lib\\site-packages\\seaborn\\distributions.py:2619: FutureWarning: `distplot` is a deprecated function and will be removed in a future version. Please adapt your code to use either `displot` (a figure-level function with similar flexibility) or `histplot` (an axes-level function for histograms).\n",
      "  warnings.warn(msg, FutureWarning)\n"
     ]
    },
    {
     "data": {
      "image/png": "[encoded data removed]",
      "text/plain": [
       "<Figure size 432x288 with 1 Axes>"
      ]
     },
     "metadata": {},
     "output_type": "display_data"
    }
   ],
   "source": [
    "plot_distplot('tip_amount')"
   ]
  },
  {
   "cell_type": "markdown",
   "metadata": {},
   "source": [
    "# 8 tip_amount"
   ]
  },
  {
   "cell_type": "code",
   "execution_count": 53,
   "metadata": {},
   "outputs": [
    {
     "name": "stdout",
     "output_type": "stream",
     "text": [
      "lowest percentile is [0. 0. 0. 0. 0. 0.]\n",
      "highest percentile is [  5.76   5.76   5.76  10.5   15.5  189.5 ]\n"
     ]
    }
   ],
   "source": [
    "return_percentile('tolls_amount')"
   ]
  },
  {
   "cell_type": "code",
   "execution_count": 54,
   "metadata": {},
   "outputs": [],
   "source": [
    "train_df.loc[train_df['tolls_amount']>15.5,'tolls_amount'] = 15.5"
   ]
  },
  {
   "cell_type": "code",
   "execution_count": 55,
   "metadata": {},
   "outputs": [
    {
     "name": "stderr",
     "output_type": "stream",
     "text": [
      "C:\\Users\\Abin\\Anaconda3\\lib\\site-packages\\seaborn\\distributions.py:2619: FutureWarning: `distplot` is a deprecated function and will be removed in a future version. Please adapt your code to use either `displot` (a figure-level function with similar flexibility) or `histplot` (an axes-level function for histograms).\n",
      "  warnings.warn(msg, FutureWarning)\n"
     ]
    },
    {
     "data": {
      "image/png": "[encoded data removed]",
      "text/plain": [
       "<Figure size 432x288 with 1 Axes>"
      ]
     },
     "metadata": {},
     "output_type": "display_data"
    }
   ],
   "source": [
    "plot_distplot('tolls_amount')"
   ]
  },
  {
   "cell_type": "markdown",
   "metadata": {},
   "source": [
    "# 9 imp_surcharge"
   ]
  },
  {
   "cell_type": "code",
   "execution_count": 56,
   "metadata": {},
   "outputs": [
    {
     "name": "stdout",
     "output_type": "stream",
     "text": [
      "lowest percentile is [0.  0.3 0.3 0.3 0.3 0.3]\n",
      "highest percentile is [0.3 0.3 0.3 0.3 0.3 0.3]\n"
     ]
    }
   ],
   "source": [
    "return_percentile('imp_surcharge')"
   ]
  },
  {
   "cell_type": "code",
   "execution_count": 57,
   "metadata": {},
   "outputs": [],
   "source": [
    "train_df.loc[train_df['imp_surcharge']<=0.3,'imp_surcharge'] = 0.3"
   ]
  },
  {
   "cell_type": "code",
   "execution_count": 58,
   "metadata": {},
   "outputs": [
    {
     "name": "stderr",
     "output_type": "stream",
     "text": [
      "C:\\Users\\Abin\\Anaconda3\\lib\\site-packages\\seaborn\\distributions.py:2619: FutureWarning: `distplot` is a deprecated function and will be removed in a future version. Please adapt your code to use either `displot` (a figure-level function with similar flexibility) or `histplot` (an axes-level function for histograms).\n",
      "  warnings.warn(msg, FutureWarning)\n"
     ]
    },
    {
     "data": {
      "image/png": "[encoded data removed]",
      "text/plain": [
       "<Figure size 432x288 with 1 Axes>"
      ]
     },
     "metadata": {},
     "output_type": "display_data"
    }
   ],
   "source": [
    "plot_distplot('imp_surcharge')"
   ]
  },
  {
   "cell_type": "markdown",
   "metadata": {},
   "source": [
    "# 10 total_amount"
   ]
  },
  {
   "cell_type": "code",
   "execution_count": 59,
   "metadata": {},
   "outputs": [
    {
     "name": "stdout",
     "output_type": "stream",
     "text": [
      "lowest percentile is [ 0.31  4.3   4.8   5.76 23.3  24.3 ]\n",
      "highest percentile is [ 69.3     74.46    83.4709  95.3    109.8602 468.35  ]\n"
     ]
    }
   ],
   "source": [
    "return_percentile('total_amount')"
   ]
  },
  {
   "cell_type": "code",
   "execution_count": 60,
   "metadata": {},
   "outputs": [],
   "source": [
    "train_df.loc[train_df['total_amount']>109.8602,'total_amount'] = 109.8602"
   ]
  },
  {
   "cell_type": "code",
   "execution_count": 61,
   "metadata": {},
   "outputs": [
    {
     "name": "stderr",
     "output_type": "stream",
     "text": [
      "C:\\Users\\Abin\\Anaconda3\\lib\\site-packages\\seaborn\\distributions.py:2619: FutureWarning: `distplot` is a deprecated function and will be removed in a future version. Please adapt your code to use either `displot` (a figure-level function with similar flexibility) or `histplot` (an axes-level function for histograms).\n",
      "  warnings.warn(msg, FutureWarning)\n"
     ]
    },
    {
     "data": {
      "image/png": "[encoded data removed]",
      "text/plain": [
       "<Figure size 432x288 with 1 Axes>"
      ]
     },
     "metadata": {},
     "output_type": "display_data"
    }
   ],
   "source": [
    "plot_distplot('total_amount')"
   ]
  },
  {
   "cell_type": "code",
   "execution_count": 62,
   "metadata": {},
   "outputs": [
    {
     "data": {
      "text/html": [
       "<div>\n",
       "<style scoped>\n",
       "    .dataframe tbody tr th:only-of-type {\n",
       "        vertical-align: middle;\n",
       "    }\n",
       "\n",
       "    .dataframe tbody tr th {\n",
       "        vertical-align: top;\n",
       "    }\n",
       "\n",
       "    .dataframe thead th {\n",
       "        text-align: right;\n",
       "    }\n",
       "</style>\n",
       "<table border=\"1\" class=\"dataframe\">\n",
       "  <thead>\n",
       "    <tr style=\"text-align: right;\">\n",
       "      <th></th>\n",
       "      <th>trip_distance</th>\n",
       "      <th>rate_code</th>\n",
       "      <th>payment_type</th>\n",
       "      <th>fare_amount</th>\n",
       "      <th>extra</th>\n",
       "      <th>mta_tax</th>\n",
       "      <th>tip_amount</th>\n",
       "      <th>tolls_amount</th>\n",
       "      <th>imp_surcharge</th>\n",
       "      <th>total_amount</th>\n",
       "      <th>pickup_location_id</th>\n",
       "      <th>dropoff_location_id</th>\n",
       "      <th>year</th>\n",
       "      <th>month</th>\n",
       "      <th>day</th>\n",
       "      <th>day_of_week</th>\n",
       "      <th>hour_of_day</th>\n",
       "      <th>trip_duration</th>\n",
       "      <th>calculated_total_amount</th>\n",
       "    </tr>\n",
       "  </thead>\n",
       "  <tbody>\n",
       "    <tr>\n",
       "      <th>trip_distance</th>\n",
       "      <td>1.000000e+00</td>\n",
       "      <td>2.340502e-01</td>\n",
       "      <td>-6.562262e-02</td>\n",
       "      <td>8.266068e-01</td>\n",
       "      <td>-2.366015e-02</td>\n",
       "      <td>NaN</td>\n",
       "      <td>4.797384e-01</td>\n",
       "      <td>4.255738e-01</td>\n",
       "      <td>7.141645e-15</td>\n",
       "      <td>8.278932e-01</td>\n",
       "      <td>-9.708580e-02</td>\n",
       "      <td>-1.146805e-01</td>\n",
       "      <td>NaN</td>\n",
       "      <td>-3.750585e-02</td>\n",
       "      <td>-6.490668e-03</td>\n",
       "      <td>-2.022109e-03</td>\n",
       "      <td>-2.488613e-02</td>\n",
       "      <td>-9.563702e-03</td>\n",
       "      <td>6.277565e-04</td>\n",
       "    </tr>\n",
       "    <tr>\n",
       "      <th>rate_code</th>\n",
       "      <td>2.340502e-01</td>\n",
       "      <td>1.000000e+00</td>\n",
       "      <td>-2.725607e-03</td>\n",
       "      <td>5.243272e-01</td>\n",
       "      <td>-1.011048e-01</td>\n",
       "      <td>NaN</td>\n",
       "      <td>2.455340e-01</td>\n",
       "      <td>3.131841e-01</td>\n",
       "      <td>-1.207796e-15</td>\n",
       "      <td>4.887357e-01</td>\n",
       "      <td>5.835392e-03</td>\n",
       "      <td>-3.109928e-03</td>\n",
       "      <td>NaN</td>\n",
       "      <td>1.786067e-02</td>\n",
       "      <td>7.308620e-03</td>\n",
       "      <td>1.581849e-02</td>\n",
       "      <td>-3.383967e-02</td>\n",
       "      <td>-6.651410e-03</td>\n",
       "      <td>-1.226086e-02</td>\n",
       "    </tr>\n",
       "    <tr>\n",
       "      <th>payment_type</th>\n",
       "      <td>-6.562262e-02</td>\n",
       "      <td>-2.725607e-03</td>\n",
       "      <td>1.000000e+00</td>\n",
       "      <td>-3.230142e-02</td>\n",
       "      <td>8.359227e-03</td>\n",
       "      <td>NaN</td>\n",
       "      <td>-5.664678e-01</td>\n",
       "      <td>-9.527263e-02</td>\n",
       "      <td>4.313056e-16</td>\n",
       "      <td>-2.022987e-01</td>\n",
       "      <td>1.166046e-03</td>\n",
       "      <td>-2.771017e-03</td>\n",
       "      <td>NaN</td>\n",
       "      <td>7.847400e-03</td>\n",
       "      <td>2.988437e-02</td>\n",
       "      <td>7.145763e-02</td>\n",
       "      <td>-3.913315e-02</td>\n",
       "      <td>2.158082e-03</td>\n",
       "      <td>-4.301005e-02</td>\n",
       "    </tr>\n",
       "    <tr>\n",
       "      <th>fare_amount</th>\n",
       "      <td>8.266068e-01</td>\n",
       "      <td>5.243272e-01</td>\n",
       "      <td>-3.230142e-02</td>\n",
       "      <td>1.000000e+00</td>\n",
       "      <td>-7.506320e-02</td>\n",
       "      <td>NaN</td>\n",
       "      <td>5.208068e-01</td>\n",
       "      <td>4.496327e-01</td>\n",
       "      <td>-2.540209e-15</td>\n",
       "      <td>9.267169e-01</td>\n",
       "      <td>-5.976711e-02</td>\n",
       "      <td>-1.067403e-01</td>\n",
       "      <td>NaN</td>\n",
       "      <td>-3.279820e-03</td>\n",
       "      <td>1.079791e-02</td>\n",
       "      <td>-1.556632e-02</td>\n",
       "      <td>-3.279608e-02</td>\n",
       "      <td>-6.149749e-03</td>\n",
       "      <td>-1.095935e-02</td>\n",
       "    </tr>\n",
       "    <tr>\n",
       "      <th>extra</th>\n",
       "      <td>-2.366015e-02</td>\n",
       "      <td>-1.011048e-01</td>\n",
       "      <td>8.359227e-03</td>\n",
       "      <td>-7.506320e-02</td>\n",
       "      <td>1.000000e+00</td>\n",
       "      <td>NaN</td>\n",
       "      <td>-3.353014e-02</td>\n",
       "      <td>-9.358613e-02</td>\n",
       "      <td>2.928865e-16</td>\n",
       "      <td>-5.603399e-02</td>\n",
       "      <td>-1.061859e-02</td>\n",
       "      <td>-1.717427e-02</td>\n",
       "      <td>NaN</td>\n",
       "      <td>-8.535171e-03</td>\n",
       "      <td>-1.005039e-02</td>\n",
       "      <td>-1.174561e-01</td>\n",
       "      <td>3.516770e-01</td>\n",
       "      <td>-1.688133e-03</td>\n",
       "      <td>5.432938e-03</td>\n",
       "    </tr>\n",
       "    <tr>\n",
       "      <th>mta_tax</th>\n",
       "      <td>NaN</td>\n",
       "      <td>NaN</td>\n",
       "      <td>NaN</td>\n",
       "      <td>NaN</td>\n",
       "      <td>NaN</td>\n",
       "      <td>NaN</td>\n",
       "      <td>NaN</td>\n",
       "      <td>NaN</td>\n",
       "      <td>NaN</td>\n",
       "      <td>NaN</td>\n",
       "      <td>NaN</td>\n",
       "      <td>NaN</td>\n",
       "      <td>NaN</td>\n",
       "      <td>NaN</td>\n",
       "      <td>NaN</td>\n",
       "      <td>NaN</td>\n",
       "      <td>NaN</td>\n",
       "      <td>NaN</td>\n",
       "      <td>NaN</td>\n",
       "    </tr>\n",
       "    <tr>\n",
       "      <th>tip_amount</th>\n",
       "      <td>4.797384e-01</td>\n",
       "      <td>2.455340e-01</td>\n",
       "      <td>-5.664678e-01</td>\n",
       "      <td>5.208068e-01</td>\n",
       "      <td>-3.353014e-02</td>\n",
       "      <td>NaN</td>\n",
       "      <td>1.000000e+00</td>\n",
       "      <td>4.238561e-01</td>\n",
       "      <td>3.354579e-15</td>\n",
       "      <td>7.148434e-01</td>\n",
       "      <td>-3.506136e-02</td>\n",
       "      <td>-4.147828e-02</td>\n",
       "      <td>NaN</td>\n",
       "      <td>-3.171056e-02</td>\n",
       "      <td>-1.164183e-02</td>\n",
       "      <td>-6.180707e-02</td>\n",
       "      <td>1.800416e-02</td>\n",
       "      <td>-5.367520e-03</td>\n",
       "      <td>2.896237e-02</td>\n",
       "    </tr>\n",
       "    <tr>\n",
       "      <th>tolls_amount</th>\n",
       "      <td>4.255738e-01</td>\n",
       "      <td>3.131841e-01</td>\n",
       "      <td>-9.527263e-02</td>\n",
       "      <td>4.496327e-01</td>\n",
       "      <td>-9.358613e-02</td>\n",
       "      <td>NaN</td>\n",
       "      <td>4.238561e-01</td>\n",
       "      <td>1.000000e+00</td>\n",
       "      <td>2.927075e-14</td>\n",
       "      <td>6.182319e-01</td>\n",
       "      <td>-1.324891e-02</td>\n",
       "      <td>-3.208042e-02</td>\n",
       "      <td>NaN</td>\n",
       "      <td>-1.970727e-02</td>\n",
       "      <td>6.121759e-03</td>\n",
       "      <td>-5.486531e-02</td>\n",
       "      <td>-2.801898e-02</td>\n",
       "      <td>-5.582871e-03</td>\n",
       "      <td>1.677340e-03</td>\n",
       "    </tr>\n",
       "    <tr>\n",
       "      <th>imp_surcharge</th>\n",
       "      <td>7.141645e-15</td>\n",
       "      <td>-1.207796e-15</td>\n",
       "      <td>4.313056e-16</td>\n",
       "      <td>-2.540209e-15</td>\n",
       "      <td>2.928865e-16</td>\n",
       "      <td>NaN</td>\n",
       "      <td>3.354579e-15</td>\n",
       "      <td>2.927075e-14</td>\n",
       "      <td>1.000000e+00</td>\n",
       "      <td>-4.925103e-13</td>\n",
       "      <td>-3.064937e-16</td>\n",
       "      <td>1.191990e-15</td>\n",
       "      <td>NaN</td>\n",
       "      <td>-6.413144e-16</td>\n",
       "      <td>4.901429e-16</td>\n",
       "      <td>7.131981e-16</td>\n",
       "      <td>1.505083e-15</td>\n",
       "      <td>6.408883e-16</td>\n",
       "      <td>-5.209754e-13</td>\n",
       "    </tr>\n",
       "    <tr>\n",
       "      <th>total_amount</th>\n",
       "      <td>8.278932e-01</td>\n",
       "      <td>4.887357e-01</td>\n",
       "      <td>-2.022987e-01</td>\n",
       "      <td>9.267169e-01</td>\n",
       "      <td>-5.603399e-02</td>\n",
       "      <td>NaN</td>\n",
       "      <td>7.148434e-01</td>\n",
       "      <td>6.182319e-01</td>\n",
       "      <td>-4.925103e-13</td>\n",
       "      <td>1.000000e+00</td>\n",
       "      <td>-6.180112e-02</td>\n",
       "      <td>-9.564433e-02</td>\n",
       "      <td>NaN</td>\n",
       "      <td>-1.068346e-02</td>\n",
       "      <td>6.037975e-03</td>\n",
       "      <td>-4.009231e-02</td>\n",
       "      <td>-1.351427e-02</td>\n",
       "      <td>-6.951801e-03</td>\n",
       "      <td>2.938345e-03</td>\n",
       "    </tr>\n",
       "    <tr>\n",
       "      <th>pickup_location_id</th>\n",
       "      <td>-9.708580e-02</td>\n",
       "      <td>5.835392e-03</td>\n",
       "      <td>1.166046e-03</td>\n",
       "      <td>-5.976711e-02</td>\n",
       "      <td>-1.061859e-02</td>\n",
       "      <td>NaN</td>\n",
       "      <td>-3.506136e-02</td>\n",
       "      <td>-1.324891e-02</td>\n",
       "      <td>-3.064937e-16</td>\n",
       "      <td>-6.180112e-02</td>\n",
       "      <td>1.000000e+00</td>\n",
       "      <td>3.767304e-02</td>\n",
       "      <td>NaN</td>\n",
       "      <td>-2.100198e-04</td>\n",
       "      <td>-1.197995e-03</td>\n",
       "      <td>-5.505098e-03</td>\n",
       "      <td>-6.318166e-03</td>\n",
       "      <td>5.759561e-03</td>\n",
       "      <td>-4.549739e-03</td>\n",
       "    </tr>\n",
       "    <tr>\n",
       "      <th>dropoff_location_id</th>\n",
       "      <td>-1.146805e-01</td>\n",
       "      <td>-3.109928e-03</td>\n",
       "      <td>-2.771017e-03</td>\n",
       "      <td>-1.067403e-01</td>\n",
       "      <td>-1.717427e-02</td>\n",
       "      <td>NaN</td>\n",
       "      <td>-4.147828e-02</td>\n",
       "      <td>-3.208042e-02</td>\n",
       "      <td>1.191990e-15</td>\n",
       "      <td>-9.564433e-02</td>\n",
       "      <td>3.767304e-02</td>\n",
       "      <td>1.000000e+00</td>\n",
       "      <td>NaN</td>\n",
       "      <td>5.021684e-04</td>\n",
       "      <td>-5.502539e-03</td>\n",
       "      <td>-4.105316e-03</td>\n",
       "      <td>3.113229e-02</td>\n",
       "      <td>1.012362e-02</td>\n",
       "      <td>-2.603344e-04</td>\n",
       "    </tr>\n",
       "    <tr>\n",
       "      <th>year</th>\n",
       "      <td>NaN</td>\n",
       "      <td>NaN</td>\n",
       "      <td>NaN</td>\n",
       "      <td>NaN</td>\n",
       "      <td>NaN</td>\n",
       "      <td>NaN</td>\n",
       "      <td>NaN</td>\n",
       "      <td>NaN</td>\n",
       "      <td>NaN</td>\n",
       "      <td>NaN</td>\n",
       "      <td>NaN</td>\n",
       "      <td>NaN</td>\n",
       "      <td>NaN</td>\n",
       "      <td>NaN</td>\n",
       "      <td>NaN</td>\n",
       "      <td>NaN</td>\n",
       "      <td>NaN</td>\n",
       "      <td>NaN</td>\n",
       "      <td>NaN</td>\n",
       "    </tr>\n",
       "    <tr>\n",
       "      <th>month</th>\n",
       "      <td>-3.750585e-02</td>\n",
       "      <td>1.786067e-02</td>\n",
       "      <td>7.847400e-03</td>\n",
       "      <td>-3.279820e-03</td>\n",
       "      <td>-8.535171e-03</td>\n",
       "      <td>NaN</td>\n",
       "      <td>-3.171056e-02</td>\n",
       "      <td>-1.970727e-02</td>\n",
       "      <td>-6.413144e-16</td>\n",
       "      <td>-1.068346e-02</td>\n",
       "      <td>-2.100198e-04</td>\n",
       "      <td>5.021684e-04</td>\n",
       "      <td>NaN</td>\n",
       "      <td>1.000000e+00</td>\n",
       "      <td>2.460971e-02</td>\n",
       "      <td>6.182369e-02</td>\n",
       "      <td>-8.621280e-03</td>\n",
       "      <td>1.297891e-02</td>\n",
       "      <td>3.879362e-04</td>\n",
       "    </tr>\n",
       "    <tr>\n",
       "      <th>day</th>\n",
       "      <td>-6.490668e-03</td>\n",
       "      <td>7.308620e-03</td>\n",
       "      <td>2.988437e-02</td>\n",
       "      <td>1.079791e-02</td>\n",
       "      <td>-1.005039e-02</td>\n",
       "      <td>NaN</td>\n",
       "      <td>-1.164183e-02</td>\n",
       "      <td>6.121759e-03</td>\n",
       "      <td>4.901429e-16</td>\n",
       "      <td>6.037975e-03</td>\n",
       "      <td>-1.197995e-03</td>\n",
       "      <td>-5.502539e-03</td>\n",
       "      <td>NaN</td>\n",
       "      <td>2.460971e-02</td>\n",
       "      <td>1.000000e+00</td>\n",
       "      <td>1.018572e-03</td>\n",
       "      <td>-2.634528e-02</td>\n",
       "      <td>1.641444e-02</td>\n",
       "      <td>-4.742174e-04</td>\n",
       "    </tr>\n",
       "    <tr>\n",
       "      <th>day_of_week</th>\n",
       "      <td>-2.022109e-03</td>\n",
       "      <td>1.581849e-02</td>\n",
       "      <td>7.145763e-02</td>\n",
       "      <td>-1.556632e-02</td>\n",
       "      <td>-1.174561e-01</td>\n",
       "      <td>NaN</td>\n",
       "      <td>-6.180707e-02</td>\n",
       "      <td>-5.486531e-02</td>\n",
       "      <td>7.131981e-16</td>\n",
       "      <td>-4.009231e-02</td>\n",
       "      <td>-5.505098e-03</td>\n",
       "      <td>-4.105316e-03</td>\n",
       "      <td>NaN</td>\n",
       "      <td>6.182369e-02</td>\n",
       "      <td>1.018572e-03</td>\n",
       "      <td>1.000000e+00</td>\n",
       "      <td>-5.687947e-02</td>\n",
       "      <td>2.066741e-03</td>\n",
       "      <td>2.580525e-03</td>\n",
       "    </tr>\n",
       "    <tr>\n",
       "      <th>hour_of_day</th>\n",
       "      <td>-2.488613e-02</td>\n",
       "      <td>-3.383967e-02</td>\n",
       "      <td>-3.913315e-02</td>\n",
       "      <td>-3.279608e-02</td>\n",
       "      <td>3.516770e-01</td>\n",
       "      <td>NaN</td>\n",
       "      <td>1.800416e-02</td>\n",
       "      <td>-2.801898e-02</td>\n",
       "      <td>1.505083e-15</td>\n",
       "      <td>-1.351427e-02</td>\n",
       "      <td>-6.318166e-03</td>\n",
       "      <td>3.113229e-02</td>\n",
       "      <td>NaN</td>\n",
       "      <td>-8.621280e-03</td>\n",
       "      <td>-2.634528e-02</td>\n",
       "      <td>-5.687947e-02</td>\n",
       "      <td>1.000000e+00</td>\n",
       "      <td>-4.039185e-03</td>\n",
       "      <td>1.166729e-03</td>\n",
       "    </tr>\n",
       "    <tr>\n",
       "      <th>trip_duration</th>\n",
       "      <td>-9.563702e-03</td>\n",
       "      <td>-6.651410e-03</td>\n",
       "      <td>2.158082e-03</td>\n",
       "      <td>-6.149749e-03</td>\n",
       "      <td>-1.688133e-03</td>\n",
       "      <td>NaN</td>\n",
       "      <td>-5.367520e-03</td>\n",
       "      <td>-5.582871e-03</td>\n",
       "      <td>6.408883e-16</td>\n",
       "      <td>-6.951801e-03</td>\n",
       "      <td>5.759561e-03</td>\n",
       "      <td>1.012362e-02</td>\n",
       "      <td>NaN</td>\n",
       "      <td>1.297891e-02</td>\n",
       "      <td>1.641444e-02</td>\n",
       "      <td>2.066741e-03</td>\n",
       "      <td>-4.039185e-03</td>\n",
       "      <td>1.000000e+00</td>\n",
       "      <td>2.596160e-03</td>\n",
       "    </tr>\n",
       "    <tr>\n",
       "      <th>calculated_total_amount</th>\n",
       "      <td>6.277565e-04</td>\n",
       "      <td>-1.226086e-02</td>\n",
       "      <td>-4.301005e-02</td>\n",
       "      <td>-1.095935e-02</td>\n",
       "      <td>5.432938e-03</td>\n",
       "      <td>NaN</td>\n",
       "      <td>2.896237e-02</td>\n",
       "      <td>1.677340e-03</td>\n",
       "      <td>-5.209754e-13</td>\n",
       "      <td>2.938345e-03</td>\n",
       "      <td>-4.549739e-03</td>\n",
       "      <td>-2.603344e-04</td>\n",
       "      <td>NaN</td>\n",
       "      <td>3.879362e-04</td>\n",
       "      <td>-4.742174e-04</td>\n",
       "      <td>2.580525e-03</td>\n",
       "      <td>1.166729e-03</td>\n",
       "      <td>2.596160e-03</td>\n",
       "      <td>1.000000e+00</td>\n",
       "    </tr>\n",
       "  </tbody>\n",
       "</table>\n",
       "</div>"
      ],
      "text/plain": [
       "                         trip_distance     rate_code  payment_type  \\\n",
       "trip_distance             1.000000e+00  2.340502e-01 -6.562262e-02   \n",
       "rate_code                 2.340502e-01  1.000000e+00 -2.725607e-03   \n",
       "payment_type             -6.562262e-02 -2.725607e-03  1.000000e+00   \n",
       "fare_amount               8.266068e-01  5.243272e-01 -3.230142e-02   \n",
       "extra                    -2.366015e-02 -1.011048e-01  8.359227e-03   \n",
       "mta_tax                            NaN           NaN           NaN   \n",
       "tip_amount                4.797384e-01  2.455340e-01 -5.664678e-01   \n",
       "tolls_amount              4.255738e-01  3.131841e-01 -9.527263e-02   \n",
       "imp_surcharge             7.141645e-15 -1.207796e-15  4.313056e-16   \n",
       "total_amount              8.278932e-01  4.887357e-01 -2.022987e-01   \n",
       "pickup_location_id       -9.708580e-02  5.835392e-03  1.166046e-03   \n",
       "dropoff_location_id      -1.146805e-01 -3.109928e-03 -2.771017e-03   \n",
       "year                               NaN           NaN           NaN   \n",
       "month                    -3.750585e-02  1.786067e-02  7.847400e-03   \n",
       "day                      -6.490668e-03  7.308620e-03  2.988437e-02   \n",
       "day_of_week              -2.022109e-03  1.581849e-02  7.145763e-02   \n",
       "hour_of_day              -2.488613e-02 -3.383967e-02 -3.913315e-02   \n",
       "trip_duration            -9.563702e-03 -6.651410e-03  2.158082e-03   \n",
       "calculated_total_amount   6.277565e-04 -1.226086e-02 -4.301005e-02   \n",
       "\n",
       "                          fare_amount         extra  mta_tax    tip_amount  \\\n",
       "trip_distance            8.266068e-01 -2.366015e-02      NaN  4.797384e-01   \n",
       "rate_code                5.243272e-01 -1.011048e-01      NaN  2.455340e-01   \n",
       "payment_type            -3.230142e-02  8.359227e-03      NaN -5.664678e-01   \n",
       "fare_amount              1.000000e+00 -7.506320e-02      NaN  5.208068e-01   \n",
       "extra                   -7.506320e-02  1.000000e+00      NaN -3.353014e-02   \n",
       "mta_tax                           NaN           NaN      NaN           NaN   \n",
       "tip_amount               5.208068e-01 -3.353014e-02      NaN  1.000000e+00   \n",
       "tolls_amount             4.496327e-01 -9.358613e-02      NaN  4.238561e-01   \n",
       "imp_surcharge           -2.540209e-15  2.928865e-16      NaN  3.354579e-15   \n",
       "total_amount             9.267169e-01 -5.603399e-02      NaN  7.148434e-01   \n",
       "pickup_location_id      -5.976711e-02 -1.061859e-02      NaN -3.506136e-02   \n",
       "dropoff_location_id     -1.067403e-01 -1.717427e-02      NaN -4.147828e-02   \n",
       "year                              NaN           NaN      NaN           NaN   \n",
       "month                   -3.279820e-03 -8.535171e-03      NaN -3.171056e-02   \n",
       "day                      1.079791e-02 -1.005039e-02      NaN -1.164183e-02   \n",
       "day_of_week             -1.556632e-02 -1.174561e-01      NaN -6.180707e-02   \n",
       "hour_of_day             -3.279608e-02  3.516770e-01      NaN  1.800416e-02   \n",
       "trip_duration           -6.149749e-03 -1.688133e-03      NaN -5.367520e-03   \n",
       "calculated_total_amount -1.095935e-02  5.432938e-03      NaN  2.896237e-02   \n",
       "\n",
       "                         tolls_amount  imp_surcharge  total_amount  \\\n",
       "trip_distance            4.255738e-01   7.141645e-15  8.278932e-01   \n",
       "rate_code                3.131841e-01  -1.207796e-15  4.887357e-01   \n",
       "payment_type            -9.527263e-02   4.313056e-16 -2.022987e-01   \n",
       "fare_amount              4.496327e-01  -2.540209e-15  9.267169e-01   \n",
       "extra                   -9.358613e-02   2.928865e-16 -5.603399e-02   \n",
       "mta_tax                           NaN            NaN           NaN   \n",
       "tip_amount               4.238561e-01   3.354579e-15  7.148434e-01   \n",
       "tolls_amount             1.000000e+00   2.927075e-14  6.182319e-01   \n",
       "imp_surcharge            2.927075e-14   1.000000e+00 -4.925103e-13   \n",
       "total_amount             6.182319e-01  -4.925103e-13  1.000000e+00   \n",
       "pickup_location_id      -1.324891e-02  -3.064937e-16 -6.180112e-02   \n",
       "dropoff_location_id     -3.208042e-02   1.191990e-15 -9.564433e-02   \n",
       "year                              NaN            NaN           NaN   \n",
       "month                   -1.970727e-02  -6.413144e-16 -1.068346e-02   \n",
       "day                      6.121759e-03   4.901429e-16  6.037975e-03   \n",
       "day_of_week             -5.486531e-02   7.131981e-16 -4.009231e-02   \n",
       "hour_of_day             -2.801898e-02   1.505083e-15 -1.351427e-02   \n",
       "trip_duration           -5.582871e-03   6.408883e-16 -6.951801e-03   \n",
       "calculated_total_amount  1.677340e-03  -5.209754e-13  2.938345e-03   \n",
       "\n",
       "                         pickup_location_id  dropoff_location_id  year  \\\n",
       "trip_distance                 -9.708580e-02        -1.146805e-01   NaN   \n",
       "rate_code                      5.835392e-03        -3.109928e-03   NaN   \n",
       "payment_type                   1.166046e-03        -2.771017e-03   NaN   \n",
       "fare_amount                   -5.976711e-02        -1.067403e-01   NaN   \n",
       "extra                         -1.061859e-02        -1.717427e-02   NaN   \n",
       "mta_tax                                 NaN                  NaN   NaN   \n",
       "tip_amount                    -3.506136e-02        -4.147828e-02   NaN   \n",
       "tolls_amount                  -1.324891e-02        -3.208042e-02   NaN   \n",
       "imp_surcharge                 -3.064937e-16         1.191990e-15   NaN   \n",
       "total_amount                  -6.180112e-02        -9.564433e-02   NaN   \n",
       "pickup_location_id             1.000000e+00         3.767304e-02   NaN   \n",
       "dropoff_location_id            3.767304e-02         1.000000e+00   NaN   \n",
       "year                                    NaN                  NaN   NaN   \n",
       "month                         -2.100198e-04         5.021684e-04   NaN   \n",
       "day                           -1.197995e-03        -5.502539e-03   NaN   \n",
       "day_of_week                   -5.505098e-03        -4.105316e-03   NaN   \n",
       "hour_of_day                   -6.318166e-03         3.113229e-02   NaN   \n",
       "trip_duration                  5.759561e-03         1.012362e-02   NaN   \n",
       "calculated_total_amount       -4.549739e-03        -2.603344e-04   NaN   \n",
       "\n",
       "                                month           day   day_of_week  \\\n",
       "trip_distance           -3.750585e-02 -6.490668e-03 -2.022109e-03   \n",
       "rate_code                1.786067e-02  7.308620e-03  1.581849e-02   \n",
       "payment_type             7.847400e-03  2.988437e-02  7.145763e-02   \n",
       "fare_amount             -3.279820e-03  1.079791e-02 -1.556632e-02   \n",
       "extra                   -8.535171e-03 -1.005039e-02 -1.174561e-01   \n",
       "mta_tax                           NaN           NaN           NaN   \n",
       "tip_amount              -3.171056e-02 -1.164183e-02 -6.180707e-02   \n",
       "tolls_amount            -1.970727e-02  6.121759e-03 -5.486531e-02   \n",
       "imp_surcharge           -6.413144e-16  4.901429e-16  7.131981e-16   \n",
       "total_amount            -1.068346e-02  6.037975e-03 -4.009231e-02   \n",
       "pickup_location_id      -2.100198e-04 -1.197995e-03 -5.505098e-03   \n",
       "dropoff_location_id      5.021684e-04 -5.502539e-03 -4.105316e-03   \n",
       "year                              NaN           NaN           NaN   \n",
       "month                    1.000000e+00  2.460971e-02  6.182369e-02   \n",
       "day                      2.460971e-02  1.000000e+00  1.018572e-03   \n",
       "day_of_week              6.182369e-02  1.018572e-03  1.000000e+00   \n",
       "hour_of_day             -8.621280e-03 -2.634528e-02 -5.687947e-02   \n",
       "trip_duration            1.297891e-02  1.641444e-02  2.066741e-03   \n",
       "calculated_total_amount  3.879362e-04 -4.742174e-04  2.580525e-03   \n",
       "\n",
       "                          hour_of_day  trip_duration  calculated_total_amount  \n",
       "trip_distance           -2.488613e-02  -9.563702e-03             6.277565e-04  \n",
       "rate_code               -3.383967e-02  -6.651410e-03            -1.226086e-02  \n",
       "payment_type            -3.913315e-02   2.158082e-03            -4.301005e-02  \n",
       "fare_amount             -3.279608e-02  -6.149749e-03            -1.095935e-02  \n",
       "extra                    3.516770e-01  -1.688133e-03             5.432938e-03  \n",
       "mta_tax                           NaN            NaN                      NaN  \n",
       "tip_amount               1.800416e-02  -5.367520e-03             2.896237e-02  \n",
       "tolls_amount            -2.801898e-02  -5.582871e-03             1.677340e-03  \n",
       "imp_surcharge            1.505083e-15   6.408883e-16            -5.209754e-13  \n",
       "total_amount            -1.351427e-02  -6.951801e-03             2.938345e-03  \n",
       "pickup_location_id      -6.318166e-03   5.759561e-03            -4.549739e-03  \n",
       "dropoff_location_id      3.113229e-02   1.012362e-02            -2.603344e-04  \n",
       "year                              NaN            NaN                      NaN  \n",
       "month                   -8.621280e-03   1.297891e-02             3.879362e-04  \n",
       "day                     -2.634528e-02   1.641444e-02            -4.742174e-04  \n",
       "day_of_week             -5.687947e-02   2.066741e-03             2.580525e-03  \n",
       "hour_of_day              1.000000e+00  -4.039185e-03             1.166729e-03  \n",
       "trip_duration           -4.039185e-03   1.000000e+00             2.596160e-03  \n",
       "calculated_total_amount  1.166729e-03   2.596160e-03             1.000000e+00  "
      ]
     },
     "execution_count": 62,
     "metadata": {},
     "output_type": "execute_result"
    }
   ],
   "source": [
    "train_df.corr()"
   ]
  },
  {
   "cell_type": "markdown",
   "metadata": {},
   "source": [
    "## base prediction ##"
   ]
  },
  {
   "cell_type": "code",
   "execution_count": 108,
   "metadata": {},
   "outputs": [
    {
     "data": {
      "text/plain": [
       "Index(['trip_distance', 'rate_code', 'store_and_fwd_flag', 'payment_type',\n",
       "       'fare_amount', 'extra', 'mta_tax', 'tip_amount', 'tolls_amount',\n",
       "       'imp_surcharge', 'total_amount', 'pickup_location_id',\n",
       "       'dropoff_location_id', 'year', 'month', 'day', 'day_of_week',\n",
       "       'hour_of_day', 'trip_duration', 'calculated_total_amount'],\n",
       "      dtype='object')"
      ]
     },
     "execution_count": 108,
     "metadata": {},
     "output_type": "execute_result"
    }
   ],
   "source": [
    "train_df.columns"
   ]
  },
  {
   "cell_type": "code",
   "execution_count": 112,
   "metadata": {},
   "outputs": [
    {
     "data": {
      "text/html": [
       "<div>\n",
       "<style scoped>\n",
       "    .dataframe tbody tr th:only-of-type {\n",
       "        vertical-align: middle;\n",
       "    }\n",
       "\n",
       "    .dataframe tbody tr th {\n",
       "        vertical-align: top;\n",
       "    }\n",
       "\n",
       "    .dataframe thead th {\n",
       "        text-align: right;\n",
       "    }\n",
       "</style>\n",
       "<table border=\"1\" class=\"dataframe\">\n",
       "  <thead>\n",
       "    <tr style=\"text-align: right;\">\n",
       "      <th></th>\n",
       "      <th>pickup_location_id</th>\n",
       "      <th>dropoff_location_id</th>\n",
       "      <th>calculated_total_amount</th>\n",
       "    </tr>\n",
       "  </thead>\n",
       "  <tbody>\n",
       "    <tr>\n",
       "      <th>0</th>\n",
       "      <td>1</td>\n",
       "      <td>1</td>\n",
       "      <td>35.254000</td>\n",
       "    </tr>\n",
       "    <tr>\n",
       "      <th>1</th>\n",
       "      <td>1</td>\n",
       "      <td>138</td>\n",
       "      <td>24.300000</td>\n",
       "    </tr>\n",
       "    <tr>\n",
       "      <th>2</th>\n",
       "      <td>1</td>\n",
       "      <td>249</td>\n",
       "      <td>51.060000</td>\n",
       "    </tr>\n",
       "    <tr>\n",
       "      <th>3</th>\n",
       "      <td>3</td>\n",
       "      <td>132</td>\n",
       "      <td>32.300000</td>\n",
       "    </tr>\n",
       "    <tr>\n",
       "      <th>4</th>\n",
       "      <td>3</td>\n",
       "      <td>168</td>\n",
       "      <td>24.300000</td>\n",
       "    </tr>\n",
       "    <tr>\n",
       "      <th>5</th>\n",
       "      <td>3</td>\n",
       "      <td>220</td>\n",
       "      <td>53.300000</td>\n",
       "    </tr>\n",
       "    <tr>\n",
       "      <th>6</th>\n",
       "      <td>4</td>\n",
       "      <td>7</td>\n",
       "      <td>36.360000</td>\n",
       "    </tr>\n",
       "    <tr>\n",
       "      <th>7</th>\n",
       "      <td>4</td>\n",
       "      <td>14</td>\n",
       "      <td>81.000000</td>\n",
       "    </tr>\n",
       "    <tr>\n",
       "      <th>8</th>\n",
       "      <td>4</td>\n",
       "      <td>24</td>\n",
       "      <td>59.300000</td>\n",
       "    </tr>\n",
       "    <tr>\n",
       "      <th>9</th>\n",
       "      <td>4</td>\n",
       "      <td>37</td>\n",
       "      <td>80.060000</td>\n",
       "    </tr>\n",
       "    <tr>\n",
       "      <th>10</th>\n",
       "      <td>4</td>\n",
       "      <td>41</td>\n",
       "      <td>42.606667</td>\n",
       "    </tr>\n",
       "    <tr>\n",
       "      <th>11</th>\n",
       "      <td>4</td>\n",
       "      <td>42</td>\n",
       "      <td>38.310000</td>\n",
       "    </tr>\n",
       "    <tr>\n",
       "      <th>12</th>\n",
       "      <td>4</td>\n",
       "      <td>49</td>\n",
       "      <td>37.250000</td>\n",
       "    </tr>\n",
       "    <tr>\n",
       "      <th>13</th>\n",
       "      <td>4</td>\n",
       "      <td>61</td>\n",
       "      <td>32.750000</td>\n",
       "    </tr>\n",
       "    <tr>\n",
       "      <th>14</th>\n",
       "      <td>4</td>\n",
       "      <td>74</td>\n",
       "      <td>32.050000</td>\n",
       "    </tr>\n",
       "    <tr>\n",
       "      <th>15</th>\n",
       "      <td>4</td>\n",
       "      <td>85</td>\n",
       "      <td>5.760000</td>\n",
       "    </tr>\n",
       "    <tr>\n",
       "      <th>16</th>\n",
       "      <td>4</td>\n",
       "      <td>92</td>\n",
       "      <td>48.525000</td>\n",
       "    </tr>\n",
       "    <tr>\n",
       "      <th>17</th>\n",
       "      <td>4</td>\n",
       "      <td>97</td>\n",
       "      <td>32.760000</td>\n",
       "    </tr>\n",
       "    <tr>\n",
       "      <th>18</th>\n",
       "      <td>4</td>\n",
       "      <td>102</td>\n",
       "      <td>56.160000</td>\n",
       "    </tr>\n",
       "    <tr>\n",
       "      <th>19</th>\n",
       "      <td>4</td>\n",
       "      <td>106</td>\n",
       "      <td>5.150000</td>\n",
       "    </tr>\n",
       "    <tr>\n",
       "      <th>20</th>\n",
       "      <td>4</td>\n",
       "      <td>116</td>\n",
       "      <td>5.160000</td>\n",
       "    </tr>\n",
       "    <tr>\n",
       "      <th>21</th>\n",
       "      <td>4</td>\n",
       "      <td>122</td>\n",
       "      <td>37.300000</td>\n",
       "    </tr>\n",
       "    <tr>\n",
       "      <th>22</th>\n",
       "      <td>4</td>\n",
       "      <td>133</td>\n",
       "      <td>34.560000</td>\n",
       "    </tr>\n",
       "    <tr>\n",
       "      <th>23</th>\n",
       "      <td>4</td>\n",
       "      <td>138</td>\n",
       "      <td>52.110000</td>\n",
       "    </tr>\n",
       "    <tr>\n",
       "      <th>24</th>\n",
       "      <td>4</td>\n",
       "      <td>142</td>\n",
       "      <td>30.680000</td>\n",
       "    </tr>\n",
       "    <tr>\n",
       "      <th>25</th>\n",
       "      <td>4</td>\n",
       "      <td>143</td>\n",
       "      <td>29.150000</td>\n",
       "    </tr>\n",
       "    <tr>\n",
       "      <th>26</th>\n",
       "      <td>4</td>\n",
       "      <td>146</td>\n",
       "      <td>26.300000</td>\n",
       "    </tr>\n",
       "    <tr>\n",
       "      <th>27</th>\n",
       "      <td>4</td>\n",
       "      <td>151</td>\n",
       "      <td>31.590000</td>\n",
       "    </tr>\n",
       "    <tr>\n",
       "      <th>28</th>\n",
       "      <td>4</td>\n",
       "      <td>161</td>\n",
       "      <td>39.450000</td>\n",
       "    </tr>\n",
       "    <tr>\n",
       "      <th>29</th>\n",
       "      <td>4</td>\n",
       "      <td>166</td>\n",
       "      <td>31.560000</td>\n",
       "    </tr>\n",
       "    <tr>\n",
       "      <th>...</th>\n",
       "      <td>...</td>\n",
       "      <td>...</td>\n",
       "      <td>...</td>\n",
       "    </tr>\n",
       "    <tr>\n",
       "      <th>6510</th>\n",
       "      <td>264</td>\n",
       "      <td>161</td>\n",
       "      <td>32.125000</td>\n",
       "    </tr>\n",
       "    <tr>\n",
       "      <th>6511</th>\n",
       "      <td>264</td>\n",
       "      <td>162</td>\n",
       "      <td>57.260000</td>\n",
       "    </tr>\n",
       "    <tr>\n",
       "      <th>6512</th>\n",
       "      <td>264</td>\n",
       "      <td>163</td>\n",
       "      <td>39.833333</td>\n",
       "    </tr>\n",
       "    <tr>\n",
       "      <th>6513</th>\n",
       "      <td>264</td>\n",
       "      <td>164</td>\n",
       "      <td>47.150000</td>\n",
       "    </tr>\n",
       "    <tr>\n",
       "      <th>6514</th>\n",
       "      <td>264</td>\n",
       "      <td>166</td>\n",
       "      <td>62.345000</td>\n",
       "    </tr>\n",
       "    <tr>\n",
       "      <th>6515</th>\n",
       "      <td>264</td>\n",
       "      <td>170</td>\n",
       "      <td>32.615000</td>\n",
       "    </tr>\n",
       "    <tr>\n",
       "      <th>6516</th>\n",
       "      <td>264</td>\n",
       "      <td>179</td>\n",
       "      <td>36.670000</td>\n",
       "    </tr>\n",
       "    <tr>\n",
       "      <th>6517</th>\n",
       "      <td>264</td>\n",
       "      <td>181</td>\n",
       "      <td>32.160000</td>\n",
       "    </tr>\n",
       "    <tr>\n",
       "      <th>6518</th>\n",
       "      <td>264</td>\n",
       "      <td>196</td>\n",
       "      <td>30.820000</td>\n",
       "    </tr>\n",
       "    <tr>\n",
       "      <th>6519</th>\n",
       "      <td>264</td>\n",
       "      <td>230</td>\n",
       "      <td>39.510000</td>\n",
       "    </tr>\n",
       "    <tr>\n",
       "      <th>6520</th>\n",
       "      <td>264</td>\n",
       "      <td>232</td>\n",
       "      <td>28.300000</td>\n",
       "    </tr>\n",
       "    <tr>\n",
       "      <th>6521</th>\n",
       "      <td>264</td>\n",
       "      <td>233</td>\n",
       "      <td>44.160000</td>\n",
       "    </tr>\n",
       "    <tr>\n",
       "      <th>6522</th>\n",
       "      <td>264</td>\n",
       "      <td>234</td>\n",
       "      <td>28.625000</td>\n",
       "    </tr>\n",
       "    <tr>\n",
       "      <th>6523</th>\n",
       "      <td>264</td>\n",
       "      <td>235</td>\n",
       "      <td>3.300000</td>\n",
       "    </tr>\n",
       "    <tr>\n",
       "      <th>6524</th>\n",
       "      <td>264</td>\n",
       "      <td>236</td>\n",
       "      <td>34.740000</td>\n",
       "    </tr>\n",
       "    <tr>\n",
       "      <th>6525</th>\n",
       "      <td>264</td>\n",
       "      <td>238</td>\n",
       "      <td>41.150000</td>\n",
       "    </tr>\n",
       "    <tr>\n",
       "      <th>6526</th>\n",
       "      <td>264</td>\n",
       "      <td>255</td>\n",
       "      <td>40.056667</td>\n",
       "    </tr>\n",
       "    <tr>\n",
       "      <th>6527</th>\n",
       "      <td>264</td>\n",
       "      <td>256</td>\n",
       "      <td>59.470000</td>\n",
       "    </tr>\n",
       "    <tr>\n",
       "      <th>6528</th>\n",
       "      <td>264</td>\n",
       "      <td>260</td>\n",
       "      <td>38.560000</td>\n",
       "    </tr>\n",
       "    <tr>\n",
       "      <th>6529</th>\n",
       "      <td>264</td>\n",
       "      <td>261</td>\n",
       "      <td>80.760000</td>\n",
       "    </tr>\n",
       "    <tr>\n",
       "      <th>6530</th>\n",
       "      <td>264</td>\n",
       "      <td>262</td>\n",
       "      <td>39.215000</td>\n",
       "    </tr>\n",
       "    <tr>\n",
       "      <th>6531</th>\n",
       "      <td>264</td>\n",
       "      <td>263</td>\n",
       "      <td>72.950000</td>\n",
       "    </tr>\n",
       "    <tr>\n",
       "      <th>6532</th>\n",
       "      <td>264</td>\n",
       "      <td>264</td>\n",
       "      <td>40.611182</td>\n",
       "    </tr>\n",
       "    <tr>\n",
       "      <th>6533</th>\n",
       "      <td>264</td>\n",
       "      <td>265</td>\n",
       "      <td>24.300000</td>\n",
       "    </tr>\n",
       "    <tr>\n",
       "      <th>6534</th>\n",
       "      <td>265</td>\n",
       "      <td>1</td>\n",
       "      <td>35.675000</td>\n",
       "    </tr>\n",
       "    <tr>\n",
       "      <th>6535</th>\n",
       "      <td>265</td>\n",
       "      <td>86</td>\n",
       "      <td>42.560000</td>\n",
       "    </tr>\n",
       "    <tr>\n",
       "      <th>6536</th>\n",
       "      <td>265</td>\n",
       "      <td>138</td>\n",
       "      <td>37.710000</td>\n",
       "    </tr>\n",
       "    <tr>\n",
       "      <th>6537</th>\n",
       "      <td>265</td>\n",
       "      <td>238</td>\n",
       "      <td>51.660000</td>\n",
       "    </tr>\n",
       "    <tr>\n",
       "      <th>6538</th>\n",
       "      <td>265</td>\n",
       "      <td>263</td>\n",
       "      <td>26.800000</td>\n",
       "    </tr>\n",
       "    <tr>\n",
       "      <th>6539</th>\n",
       "      <td>265</td>\n",
       "      <td>265</td>\n",
       "      <td>37.862500</td>\n",
       "    </tr>\n",
       "  </tbody>\n",
       "</table>\n",
       "<p>6540 rows × 3 columns</p>\n",
       "</div>"
      ],
      "text/plain": [
       "      pickup_location_id  dropoff_location_id  calculated_total_amount\n",
       "0                      1                    1                35.254000\n",
       "1                      1                  138                24.300000\n",
       "2                      1                  249                51.060000\n",
       "3                      3                  132                32.300000\n",
       "4                      3                  168                24.300000\n",
       "5                      3                  220                53.300000\n",
       "6                      4                    7                36.360000\n",
       "7                      4                   14                81.000000\n",
       "8                      4                   24                59.300000\n",
       "9                      4                   37                80.060000\n",
       "10                     4                   41                42.606667\n",
       "11                     4                   42                38.310000\n",
       "12                     4                   49                37.250000\n",
       "13                     4                   61                32.750000\n",
       "14                     4                   74                32.050000\n",
       "15                     4                   85                 5.760000\n",
       "16                     4                   92                48.525000\n",
       "17                     4                   97                32.760000\n",
       "18                     4                  102                56.160000\n",
       "19                     4                  106                 5.150000\n",
       "20                     4                  116                 5.160000\n",
       "21                     4                  122                37.300000\n",
       "22                     4                  133                34.560000\n",
       "23                     4                  138                52.110000\n",
       "24                     4                  142                30.680000\n",
       "25                     4                  143                29.150000\n",
       "26                     4                  146                26.300000\n",
       "27                     4                  151                31.590000\n",
       "28                     4                  161                39.450000\n",
       "29                     4                  166                31.560000\n",
       "...                  ...                  ...                      ...\n",
       "6510                 264                  161                32.125000\n",
       "6511                 264                  162                57.260000\n",
       "6512                 264                  163                39.833333\n",
       "6513                 264                  164                47.150000\n",
       "6514                 264                  166                62.345000\n",
       "6515                 264                  170                32.615000\n",
       "6516                 264                  179                36.670000\n",
       "6517                 264                  181                32.160000\n",
       "6518                 264                  196                30.820000\n",
       "6519                 264                  230                39.510000\n",
       "6520                 264                  232                28.300000\n",
       "6521                 264                  233                44.160000\n",
       "6522                 264                  234                28.625000\n",
       "6523                 264                  235                 3.300000\n",
       "6524                 264                  236                34.740000\n",
       "6525                 264                  238                41.150000\n",
       "6526                 264                  255                40.056667\n",
       "6527                 264                  256                59.470000\n",
       "6528                 264                  260                38.560000\n",
       "6529                 264                  261                80.760000\n",
       "6530                 264                  262                39.215000\n",
       "6531                 264                  263                72.950000\n",
       "6532                 264                  264                40.611182\n",
       "6533                 264                  265                24.300000\n",
       "6534                 265                    1                35.675000\n",
       "6535                 265                   86                42.560000\n",
       "6536                 265                  138                37.710000\n",
       "6537                 265                  238                51.660000\n",
       "6538                 265                  263                26.800000\n",
       "6539                 265                  265                37.862500\n",
       "\n",
       "[6540 rows x 3 columns]"
      ]
     },
     "execution_count": 112,
     "metadata": {},
     "output_type": "execute_result"
    }
   ],
   "source": [
    "pick_up_drop_summary = pd.DataFrame(train_df.groupby(['pickup_location_id','dropoff_location_id'],as_index=True)['calculated_total_amount'].mean())\n",
    "pick_up_drop_summary.reset_index(inplace=True)\n",
    "pick_up_drop_summary"
   ]
  },
  {
   "cell_type": "markdown",
   "metadata": {},
   "source": [
    "## test data"
   ]
  },
  {
   "cell_type": "code",
   "execution_count": 113,
   "metadata": {},
   "outputs": [
    {
     "data": {
      "text/html": [
       "<div>\n",
       "<style scoped>\n",
       "    .dataframe tbody tr th:only-of-type {\n",
       "        vertical-align: middle;\n",
       "    }\n",
       "\n",
       "    .dataframe tbody tr th {\n",
       "        vertical-align: top;\n",
       "    }\n",
       "\n",
       "    .dataframe thead th {\n",
       "        text-align: right;\n",
       "    }\n",
       "</style>\n",
       "<table border=\"1\" class=\"dataframe\">\n",
       "  <thead>\n",
       "    <tr style=\"text-align: right;\">\n",
       "      <th></th>\n",
       "      <th>trip_distance</th>\n",
       "      <th>rate_code</th>\n",
       "      <th>store_and_fwd_flag</th>\n",
       "      <th>payment_type</th>\n",
       "      <th>fare_amount</th>\n",
       "      <th>extra</th>\n",
       "      <th>mta_tax</th>\n",
       "      <th>tip_amount</th>\n",
       "      <th>tolls_amount</th>\n",
       "      <th>imp_surcharge</th>\n",
       "      <th>total_amount</th>\n",
       "      <th>pickup_location_id</th>\n",
       "      <th>dropoff_location_id</th>\n",
       "      <th>year</th>\n",
       "      <th>month</th>\n",
       "      <th>day</th>\n",
       "      <th>day_of_week</th>\n",
       "      <th>hour_of_day</th>\n",
       "      <th>trip_duration</th>\n",
       "    </tr>\n",
       "  </thead>\n",
       "  <tbody>\n",
       "    <tr>\n",
       "      <th>0</th>\n",
       "      <td>15.70</td>\n",
       "      <td>1</td>\n",
       "      <td>N</td>\n",
       "      <td>2</td>\n",
       "      <td>45.0</td>\n",
       "      <td>0.0</td>\n",
       "      <td>0.5</td>\n",
       "      <td>0.00</td>\n",
       "      <td>0.0</td>\n",
       "      <td>0.3</td>\n",
       "      <td>45.80</td>\n",
       "      <td>132</td>\n",
       "      <td>146</td>\n",
       "      <td>2018</td>\n",
       "      <td>10</td>\n",
       "      <td>20</td>\n",
       "      <td>5</td>\n",
       "      <td>16</td>\n",
       "      <td>3967.0</td>\n",
       "    </tr>\n",
       "    <tr>\n",
       "      <th>1</th>\n",
       "      <td>7.30</td>\n",
       "      <td>1</td>\n",
       "      <td>N</td>\n",
       "      <td>1</td>\n",
       "      <td>25.5</td>\n",
       "      <td>0.0</td>\n",
       "      <td>0.5</td>\n",
       "      <td>7.89</td>\n",
       "      <td>0.0</td>\n",
       "      <td>0.3</td>\n",
       "      <td>34.19</td>\n",
       "      <td>186</td>\n",
       "      <td>69</td>\n",
       "      <td>2018</td>\n",
       "      <td>2</td>\n",
       "      <td>24</td>\n",
       "      <td>5</td>\n",
       "      <td>15</td>\n",
       "      <td>1491.0</td>\n",
       "    </tr>\n",
       "    <tr>\n",
       "      <th>2</th>\n",
       "      <td>14.87</td>\n",
       "      <td>1</td>\n",
       "      <td>N</td>\n",
       "      <td>1</td>\n",
       "      <td>40.5</td>\n",
       "      <td>0.5</td>\n",
       "      <td>0.5</td>\n",
       "      <td>8.36</td>\n",
       "      <td>0.0</td>\n",
       "      <td>0.3</td>\n",
       "      <td>50.16</td>\n",
       "      <td>138</td>\n",
       "      <td>89</td>\n",
       "      <td>2018</td>\n",
       "      <td>9</td>\n",
       "      <td>11</td>\n",
       "      <td>1</td>\n",
       "      <td>22</td>\n",
       "      <td>1395.0</td>\n",
       "    </tr>\n",
       "  </tbody>\n",
       "</table>\n",
       "</div>"
      ],
      "text/plain": [
       "   trip_distance  rate_code store_and_fwd_flag  payment_type  fare_amount  \\\n",
       "0          15.70          1                  N             2         45.0   \n",
       "1           7.30          1                  N             1         25.5   \n",
       "2          14.87          1                  N             1         40.5   \n",
       "\n",
       "   extra  mta_tax  tip_amount  tolls_amount  imp_surcharge  total_amount  \\\n",
       "0    0.0      0.5        0.00           0.0            0.3         45.80   \n",
       "1    0.0      0.5        7.89           0.0            0.3         34.19   \n",
       "2    0.5      0.5        8.36           0.0            0.3         50.16   \n",
       "\n",
       "   pickup_location_id  dropoff_location_id  year  month  day  day_of_week  \\\n",
       "0                 132                  146  2018     10   20            5   \n",
       "1                 186                   69  2018      2   24            5   \n",
       "2                 138                   89  2018      9   11            1   \n",
       "\n",
       "   hour_of_day  trip_duration  \n",
       "0           16         3967.0  \n",
       "1           15         1491.0  \n",
       "2           22         1395.0  "
      ]
     },
     "execution_count": 113,
     "metadata": {},
     "output_type": "execute_result"
    }
   ],
   "source": [
    "test_df = pd.read_csv('test.csv')\n",
    "test_df.head(3)"
   ]
  },
  {
   "cell_type": "code",
   "execution_count": 116,
   "metadata": {},
   "outputs": [
    {
     "data": {
      "text/html": [
       "<div>\n",
       "<style scoped>\n",
       "    .dataframe tbody tr th:only-of-type {\n",
       "        vertical-align: middle;\n",
       "    }\n",
       "\n",
       "    .dataframe tbody tr th {\n",
       "        vertical-align: top;\n",
       "    }\n",
       "\n",
       "    .dataframe thead th {\n",
       "        text-align: right;\n",
       "    }\n",
       "</style>\n",
       "<table border=\"1\" class=\"dataframe\">\n",
       "  <thead>\n",
       "    <tr style=\"text-align: right;\">\n",
       "      <th></th>\n",
       "      <th>pickup_location_id</th>\n",
       "      <th>dropoff_location_id</th>\n",
       "    </tr>\n",
       "  </thead>\n",
       "  <tbody>\n",
       "    <tr>\n",
       "      <th>0</th>\n",
       "      <td>132</td>\n",
       "      <td>146</td>\n",
       "    </tr>\n",
       "    <tr>\n",
       "      <th>1</th>\n",
       "      <td>186</td>\n",
       "      <td>69</td>\n",
       "    </tr>\n",
       "  </tbody>\n",
       "</table>\n",
       "</div>"
      ],
      "text/plain": [
       "   pickup_location_id  dropoff_location_id\n",
       "0                 132                  146\n",
       "1                 186                   69"
      ]
     },
     "execution_count": 116,
     "metadata": {},
     "output_type": "execute_result"
    }
   ],
   "source": [
    "test_prediction = test_df.loc[:,['pickup_location_id','dropoff_location_id']]\n",
    "test_prediction.head(2)"
   ]
  },
  {
   "cell_type": "code",
   "execution_count": 117,
   "metadata": {},
   "outputs": [
    {
     "data": {
      "text/html": [
       "<div>\n",
       "<style scoped>\n",
       "    .dataframe tbody tr th:only-of-type {\n",
       "        vertical-align: middle;\n",
       "    }\n",
       "\n",
       "    .dataframe tbody tr th {\n",
       "        vertical-align: top;\n",
       "    }\n",
       "\n",
       "    .dataframe thead th {\n",
       "        text-align: right;\n",
       "    }\n",
       "</style>\n",
       "<table border=\"1\" class=\"dataframe\">\n",
       "  <thead>\n",
       "    <tr style=\"text-align: right;\">\n",
       "      <th></th>\n",
       "      <th>pickup_location_id</th>\n",
       "      <th>dropoff_location_id</th>\n",
       "      <th>calculated_total_amount</th>\n",
       "    </tr>\n",
       "  </thead>\n",
       "  <tbody>\n",
       "    <tr>\n",
       "      <th>0</th>\n",
       "      <td>132</td>\n",
       "      <td>146</td>\n",
       "      <td>38.671818</td>\n",
       "    </tr>\n",
       "    <tr>\n",
       "      <th>1</th>\n",
       "      <td>186</td>\n",
       "      <td>69</td>\n",
       "      <td>31.986667</td>\n",
       "    </tr>\n",
       "  </tbody>\n",
       "</table>\n",
       "</div>"
      ],
      "text/plain": [
       "   pickup_location_id  dropoff_location_id  calculated_total_amount\n",
       "0                 132                  146                38.671818\n",
       "1                 186                   69                31.986667"
      ]
     },
     "execution_count": 117,
     "metadata": {},
     "output_type": "execute_result"
    }
   ],
   "source": [
    "test_prediction = pd.merge(test_prediction,pick_up_drop_summary, on = ['pickup_location_id','dropoff_location_id'], how ='left')\n",
    "test_prediction.head(2)"
   ]
  },
  {
   "cell_type": "code",
   "execution_count": 123,
   "metadata": {},
   "outputs": [
    {
     "data": {
      "text/plain": [
       "pickup_location_id         0\n",
       "dropoff_location_id        0\n",
       "calculated_total_amount    0\n",
       "dtype: int64"
      ]
     },
     "execution_count": 123,
     "metadata": {},
     "output_type": "execute_result"
    }
   ],
   "source": [
    "test_prediction.isnull().sum()"
   ]
  },
  {
   "cell_type": "code",
   "execution_count": 122,
   "metadata": {},
   "outputs": [],
   "source": [
    "test_prediction['calculated_total_amount'] = test_prediction['calculated_total_amount'].fillna(50)"
   ]
  },
  {
   "cell_type": "code",
   "execution_count": 124,
   "metadata": {},
   "outputs": [
    {
     "data": {
      "text/html": [
       "<div>\n",
       "<style scoped>\n",
       "    .dataframe tbody tr th:only-of-type {\n",
       "        vertical-align: middle;\n",
       "    }\n",
       "\n",
       "    .dataframe tbody tr th {\n",
       "        vertical-align: top;\n",
       "    }\n",
       "\n",
       "    .dataframe thead th {\n",
       "        text-align: right;\n",
       "    }\n",
       "</style>\n",
       "<table border=\"1\" class=\"dataframe\">\n",
       "  <thead>\n",
       "    <tr style=\"text-align: right;\">\n",
       "      <th></th>\n",
       "      <th>calculated_total_amount</th>\n",
       "    </tr>\n",
       "  </thead>\n",
       "  <tbody>\n",
       "    <tr>\n",
       "      <th>0</th>\n",
       "      <td>38.671818</td>\n",
       "    </tr>\n",
       "    <tr>\n",
       "      <th>1</th>\n",
       "      <td>31.986667</td>\n",
       "    </tr>\n",
       "    <tr>\n",
       "      <th>2</th>\n",
       "      <td>45.964839</td>\n",
       "    </tr>\n",
       "    <tr>\n",
       "      <th>3</th>\n",
       "      <td>35.200000</td>\n",
       "    </tr>\n",
       "    <tr>\n",
       "      <th>4</th>\n",
       "      <td>42.962913</td>\n",
       "    </tr>\n",
       "    <tr>\n",
       "      <th>5</th>\n",
       "      <td>46.807409</td>\n",
       "    </tr>\n",
       "    <tr>\n",
       "      <th>6</th>\n",
       "      <td>38.368750</td>\n",
       "    </tr>\n",
       "    <tr>\n",
       "      <th>7</th>\n",
       "      <td>43.311663</td>\n",
       "    </tr>\n",
       "    <tr>\n",
       "      <th>8</th>\n",
       "      <td>36.706316</td>\n",
       "    </tr>\n",
       "    <tr>\n",
       "      <th>9</th>\n",
       "      <td>41.747472</td>\n",
       "    </tr>\n",
       "    <tr>\n",
       "      <th>10</th>\n",
       "      <td>48.955000</td>\n",
       "    </tr>\n",
       "    <tr>\n",
       "      <th>11</th>\n",
       "      <td>40.696351</td>\n",
       "    </tr>\n",
       "    <tr>\n",
       "      <th>12</th>\n",
       "      <td>40.178889</td>\n",
       "    </tr>\n",
       "    <tr>\n",
       "      <th>13</th>\n",
       "      <td>45.984286</td>\n",
       "    </tr>\n",
       "    <tr>\n",
       "      <th>14</th>\n",
       "      <td>46.611111</td>\n",
       "    </tr>\n",
       "    <tr>\n",
       "      <th>15</th>\n",
       "      <td>39.215000</td>\n",
       "    </tr>\n",
       "    <tr>\n",
       "      <th>16</th>\n",
       "      <td>37.335417</td>\n",
       "    </tr>\n",
       "    <tr>\n",
       "      <th>17</th>\n",
       "      <td>39.879500</td>\n",
       "    </tr>\n",
       "    <tr>\n",
       "      <th>18</th>\n",
       "      <td>41.934724</td>\n",
       "    </tr>\n",
       "    <tr>\n",
       "      <th>19</th>\n",
       "      <td>33.960000</td>\n",
       "    </tr>\n",
       "    <tr>\n",
       "      <th>20</th>\n",
       "      <td>41.066726</td>\n",
       "    </tr>\n",
       "    <tr>\n",
       "      <th>21</th>\n",
       "      <td>39.238333</td>\n",
       "    </tr>\n",
       "    <tr>\n",
       "      <th>22</th>\n",
       "      <td>36.894040</td>\n",
       "    </tr>\n",
       "    <tr>\n",
       "      <th>23</th>\n",
       "      <td>37.901370</td>\n",
       "    </tr>\n",
       "    <tr>\n",
       "      <th>24</th>\n",
       "      <td>29.780000</td>\n",
       "    </tr>\n",
       "    <tr>\n",
       "      <th>25</th>\n",
       "      <td>34.956667</td>\n",
       "    </tr>\n",
       "    <tr>\n",
       "      <th>26</th>\n",
       "      <td>36.568235</td>\n",
       "    </tr>\n",
       "    <tr>\n",
       "      <th>27</th>\n",
       "      <td>41.747472</td>\n",
       "    </tr>\n",
       "    <tr>\n",
       "      <th>28</th>\n",
       "      <td>42.409855</td>\n",
       "    </tr>\n",
       "    <tr>\n",
       "      <th>29</th>\n",
       "      <td>43.100743</td>\n",
       "    </tr>\n",
       "    <tr>\n",
       "      <th>...</th>\n",
       "      <td>...</td>\n",
       "    </tr>\n",
       "    <tr>\n",
       "      <th>14970</th>\n",
       "      <td>40.049298</td>\n",
       "    </tr>\n",
       "    <tr>\n",
       "      <th>14971</th>\n",
       "      <td>34.840000</td>\n",
       "    </tr>\n",
       "    <tr>\n",
       "      <th>14972</th>\n",
       "      <td>39.968889</td>\n",
       "    </tr>\n",
       "    <tr>\n",
       "      <th>14973</th>\n",
       "      <td>41.391535</td>\n",
       "    </tr>\n",
       "    <tr>\n",
       "      <th>14974</th>\n",
       "      <td>43.082400</td>\n",
       "    </tr>\n",
       "    <tr>\n",
       "      <th>14975</th>\n",
       "      <td>43.007793</td>\n",
       "    </tr>\n",
       "    <tr>\n",
       "      <th>14976</th>\n",
       "      <td>29.760000</td>\n",
       "    </tr>\n",
       "    <tr>\n",
       "      <th>14977</th>\n",
       "      <td>50.000000</td>\n",
       "    </tr>\n",
       "    <tr>\n",
       "      <th>14978</th>\n",
       "      <td>38.275000</td>\n",
       "    </tr>\n",
       "    <tr>\n",
       "      <th>14979</th>\n",
       "      <td>41.029048</td>\n",
       "    </tr>\n",
       "    <tr>\n",
       "      <th>14980</th>\n",
       "      <td>41.148149</td>\n",
       "    </tr>\n",
       "    <tr>\n",
       "      <th>14981</th>\n",
       "      <td>50.000000</td>\n",
       "    </tr>\n",
       "    <tr>\n",
       "      <th>14982</th>\n",
       "      <td>51.950000</td>\n",
       "    </tr>\n",
       "    <tr>\n",
       "      <th>14983</th>\n",
       "      <td>50.000000</td>\n",
       "    </tr>\n",
       "    <tr>\n",
       "      <th>14984</th>\n",
       "      <td>41.644990</td>\n",
       "    </tr>\n",
       "    <tr>\n",
       "      <th>14985</th>\n",
       "      <td>40.510000</td>\n",
       "    </tr>\n",
       "    <tr>\n",
       "      <th>14986</th>\n",
       "      <td>45.152674</td>\n",
       "    </tr>\n",
       "    <tr>\n",
       "      <th>14987</th>\n",
       "      <td>39.320728</td>\n",
       "    </tr>\n",
       "    <tr>\n",
       "      <th>14988</th>\n",
       "      <td>41.148149</td>\n",
       "    </tr>\n",
       "    <tr>\n",
       "      <th>14989</th>\n",
       "      <td>37.407059</td>\n",
       "    </tr>\n",
       "    <tr>\n",
       "      <th>14990</th>\n",
       "      <td>41.644990</td>\n",
       "    </tr>\n",
       "    <tr>\n",
       "      <th>14991</th>\n",
       "      <td>47.160000</td>\n",
       "    </tr>\n",
       "    <tr>\n",
       "      <th>14992</th>\n",
       "      <td>37.424286</td>\n",
       "    </tr>\n",
       "    <tr>\n",
       "      <th>14993</th>\n",
       "      <td>47.322500</td>\n",
       "    </tr>\n",
       "    <tr>\n",
       "      <th>14994</th>\n",
       "      <td>38.824000</td>\n",
       "    </tr>\n",
       "    <tr>\n",
       "      <th>14995</th>\n",
       "      <td>49.720000</td>\n",
       "    </tr>\n",
       "    <tr>\n",
       "      <th>14996</th>\n",
       "      <td>50.000000</td>\n",
       "    </tr>\n",
       "    <tr>\n",
       "      <th>14997</th>\n",
       "      <td>41.698043</td>\n",
       "    </tr>\n",
       "    <tr>\n",
       "      <th>14998</th>\n",
       "      <td>43.548624</td>\n",
       "    </tr>\n",
       "    <tr>\n",
       "      <th>14999</th>\n",
       "      <td>41.698043</td>\n",
       "    </tr>\n",
       "  </tbody>\n",
       "</table>\n",
       "<p>15000 rows × 1 columns</p>\n",
       "</div>"
      ],
      "text/plain": [
       "       calculated_total_amount\n",
       "0                    38.671818\n",
       "1                    31.986667\n",
       "2                    45.964839\n",
       "3                    35.200000\n",
       "4                    42.962913\n",
       "5                    46.807409\n",
       "6                    38.368750\n",
       "7                    43.311663\n",
       "8                    36.706316\n",
       "9                    41.747472\n",
       "10                   48.955000\n",
       "11                   40.696351\n",
       "12                   40.178889\n",
       "13                   45.984286\n",
       "14                   46.611111\n",
       "15                   39.215000\n",
       "16                   37.335417\n",
       "17                   39.879500\n",
       "18                   41.934724\n",
       "19                   33.960000\n",
       "20                   41.066726\n",
       "21                   39.238333\n",
       "22                   36.894040\n",
       "23                   37.901370\n",
       "24                   29.780000\n",
       "25                   34.956667\n",
       "26                   36.568235\n",
       "27                   41.747472\n",
       "28                   42.409855\n",
       "29                   43.100743\n",
       "...                        ...\n",
       "14970                40.049298\n",
       "14971                34.840000\n",
       "14972                39.968889\n",
       "14973                41.391535\n",
       "14974                43.082400\n",
       "14975                43.007793\n",
       "14976                29.760000\n",
       "14977                50.000000\n",
       "14978                38.275000\n",
       "14979                41.029048\n",
       "14980                41.148149\n",
       "14981                50.000000\n",
       "14982                51.950000\n",
       "14983                50.000000\n",
       "14984                41.644990\n",
       "14985                40.510000\n",
       "14986                45.152674\n",
       "14987                39.320728\n",
       "14988                41.148149\n",
       "14989                37.407059\n",
       "14990                41.644990\n",
       "14991                47.160000\n",
       "14992                37.424286\n",
       "14993                47.322500\n",
       "14994                38.824000\n",
       "14995                49.720000\n",
       "14996                50.000000\n",
       "14997                41.698043\n",
       "14998                43.548624\n",
       "14999                41.698043\n",
       "\n",
       "[15000 rows x 1 columns]"
      ]
     },
     "execution_count": 124,
     "metadata": {},
     "output_type": "execute_result"
    }
   ],
   "source": [
    "test_pred = pd.DataFrame(test_prediction.loc[:,'calculated_total_amount'])\n",
    "test_pred"
   ]
  },
  {
   "cell_type": "code",
   "execution_count": 125,
   "metadata": {},
   "outputs": [],
   "source": [
    "test_pred.to_csv('base_prediction.csv',index=False)"
   ]
  },
  {
   "cell_type": "code",
   "execution_count": null,
   "metadata": {},
   "outputs": [],
   "source": []
  }
 ],
 "metadata": {
  "kernelspec": {
   "display_name": "Python 3 (ipykernel)",
   "language": "python",
   "name": "python3"
  },
  "language_info": {
   "codemirror_mode": {
    "name": "ipython",
    "version": 3
   },
   "file_extension": ".py",
   "mimetype": "text/x-python",
   "name": "python",
   "nbconvert_exporter": "python",
   "pygments_lexer": "ipython3",
   "version": "3.9.13"
  }
 },
 "nbformat": 4,
 "nbformat_minor": 2
}
